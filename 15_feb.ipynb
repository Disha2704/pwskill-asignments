{
  "nbformat": 4,
  "nbformat_minor": 0,
  "metadata": {
    "colab": {
      "provenance": [],
      "authorship_tag": "ABX9TyMKsoIM7irgfKPjFIcvjImv",
      "include_colab_link": true
    },
    "kernelspec": {
      "name": "python3",
      "display_name": "Python 3"
    },
    "language_info": {
      "name": "python"
    }
  },
  "cells": [
    {
      "cell_type": "markdown",
      "metadata": {
        "id": "view-in-github",
        "colab_type": "text"
      },
      "source": [
        "<a href=\"https://colab.research.google.com/github/Disha2704/pwskill-asignments/blob/main/15_feb.ipynb\" target=\"_parent\"><img src=\"https://colab.research.google.com/assets/colab-badge.svg\" alt=\"Open In Colab\"/></a>"
      ]
    },
    {
      "cell_type": "markdown",
      "source": [
        "Q1. What is multiprocessing in python? Why is it useful?"
      ],
      "metadata": {
        "id": "Vx-UdigOOxdl"
      }
    },
    {
      "cell_type": "markdown",
      "source": [
        "ANS)\n",
        "\n",
        "n Python, multiprocessing is a module that provides a way to run multiple processes concurrently. It allows the developer to take advantage of multi-core CPUs and run multiple operations at the same time, which can result in faster and more efficient code execution.\n",
        "\n",
        "Multiprocessing can be useful in several ways:\n",
        "\n",
        "Parallel processing: Multiprocessing allows multiple tasks to be performed in parallel, which can speed up the processing of large amounts of data. This is especially useful for computationally intensive tasks, such as image or video processing, scientific simulations, and machine learning.\n",
        "\n",
        "Improved performance: By using multiprocessing, CPU-intensive tasks can be distributed among multiple cores, resulting in faster execution times and improved performance.\n",
        "\n",
        "Avoiding blocking: In traditional programming, a long-running task can block the execution of subsequent code. With multiprocessing, this blocking can be avoided as the code can continue executing while the long-running task is performed in a separate process."
      ],
      "metadata": {
        "id": "S32Mq9DjQJpK"
      }
    },
    {
      "cell_type": "markdown",
      "source": [
        "Q2. What are the differences between multiprocessing and multithreading?\n",
        "\n"
      ],
      "metadata": {
        "id": "M8kgcqHEOy2-"
      }
    },
    {
      "cell_type": "markdown",
      "source": [
        "ANS)\n",
        "\n",
        "Multiprocessing and multithreading are both ways to achieve concurrency in Python, but they differ in several ways:\n",
        "\n",
        "Execution: The main difference between multiprocessing and multithreading is the way they execute concurrent operations. Multiprocessing runs multiple processes in parallel, while multithreading runs multiple threads within a single process.\n",
        "\n",
        "Resource allocation: In multiprocessing, each process has its own memory space and resources, while in multithreading, multiple threads share the same memory space and resources of a single process.\n",
        "\n",
        "Isolation: Due to their separate memory space, multiprocessing is better at isolating processes from each other than multithreading. This makes multiprocessing more suitable for tasks that require greater security or reliability.\n",
        "\n",
        "Communication: Inter-process communication in multiprocessing is typically achieved through message passing or shared memory, while inter-thread communication in multithreading can be done through shared memory, locks, or other synchronization primitives."
      ],
      "metadata": {
        "id": "WAa5eWKlQa10"
      }
    },
    {
      "cell_type": "markdown",
      "source": [
        "Q3. Write a python code to create a process using the multiprocessing module."
      ],
      "metadata": {
        "id": "FpM4pTp1O0-l"
      }
    },
    {
      "cell_type": "code",
      "source": [
        "import multiprocessing\n",
        "\n",
        "def print_numbers():\n",
        "    for i in range(1, 11):\n",
        "        print(i)\n",
        "\n",
        "if __name__ == '__main__':\n",
        "    p = multiprocessing.Process(target=print_numbers)\n",
        "    p.start()\n",
        "    p.join()\n"
      ],
      "metadata": {
        "colab": {
          "base_uri": "https://localhost:8080/"
        },
        "id": "etXo6766O5Ug",
        "outputId": "a043bb4e-1681-4e0e-86ad-95507d03d23a"
      },
      "execution_count": 1,
      "outputs": [
        {
          "output_type": "stream",
          "name": "stdout",
          "text": [
            "1\n",
            "2\n",
            "3\n",
            "4\n",
            "5\n",
            "6\n",
            "7\n",
            "8\n",
            "9\n",
            "10\n"
          ]
        }
      ]
    },
    {
      "cell_type": "markdown",
      "source": [
        "Q4. What is a multiprocessing pool in python? Why is it used?"
      ],
      "metadata": {
        "id": "hSh0GcehO5cQ"
      }
    },
    {
      "cell_type": "markdown",
      "source": [
        "ANS)\n",
        "\n",
        "In Python, a multiprocessing pool is a class that provides a simple way to parallelize the execution of a function across multiple inputs. A pool is created with a fixed number of processes, and each process is used to execute a function with a different input. The results are collected and returned as a list of outputs.\n",
        "\n",
        "The multiprocessing.Pool() class is used to create a pool of worker processes. The number of worker processes is specified when the pool is created, and each process is assigned a task from a queue of tasks. Once a process has completed its task, it is returned to the queue and assigned a new task.\n",
        "\n"
      ],
      "metadata": {
        "id": "QZUT27LAQqX7"
      }
    },
    {
      "cell_type": "markdown",
      "source": [
        "Q5. How can we create a pool of worker processes in python using the multiprocessing module?\n",
        "\n",
        "\n"
      ],
      "metadata": {
        "id": "s3w69vHOO6Ap"
      }
    },
    {
      "cell_type": "code",
      "source": [
        "import multiprocessing\n",
        "\n",
        "def my_function(input):\n",
        "    # do something with the input\n",
        "    return output\n",
        "pool = multiprocessing.Pool(4) # creates a pool with 4 worker processes\n"
      ],
      "metadata": {
        "id": "hoBkKlF4Q33j"
      },
      "execution_count": 2,
      "outputs": []
    },
    {
      "cell_type": "markdown",
      "source": [
        "Q6. Write a python program to create 4 processes, each process should print a different number using the\n",
        "multiprocessing module in python\n"
      ],
      "metadata": {
        "id": "c3j5nzVnO-iK"
      }
    },
    {
      "cell_type": "code",
      "source": [
        "import multiprocessing\n",
        "\n",
        "def print_number(num):\n",
        "    print(f\"Process {num} is printing the number {num}\",end=\"\\n\")\n",
        "    print(\"\\n\")\n",
        "\n",
        "if __name__ == '__main__':\n",
        "    processes = []\n",
        "\n",
        "    # Create 4 processes\n",
        "    for i in range(4):\n",
        "        p = multiprocessing.Process(target=print_number, args=(i,))\n",
        "        processes.append(p)\n",
        "        p.start()\n",
        "\n",
        "    # Wait for all processes to finish\n",
        "    for p in processes:\n",
        "        p.join()\n",
        "\n",
        "\n"
      ],
      "metadata": {
        "colab": {
          "base_uri": "https://localhost:8080/"
        },
        "id": "UhaVEcHxRt1T",
        "outputId": "9055c4e2-6da2-40b5-d02e-66acd6af0015"
      },
      "execution_count": 21,
      "outputs": [
        {
          "output_type": "stream",
          "name": "stdout",
          "text": [
            "Process 0 is printing the number 0\n",
            "Process 1 is printing the number 1Process 2 is printing the number 2\n",
            "\n",
            "\n",
            "Process 3 is printing the number 3\n",
            "\n",
            "\n",
            "\n",
            "\n",
            "\n",
            "\n",
            "\n"
          ]
        }
      ]
    }
  ]
}