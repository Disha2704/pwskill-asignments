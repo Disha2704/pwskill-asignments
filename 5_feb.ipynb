{
  "nbformat": 4,
  "nbformat_minor": 0,
  "metadata": {
    "colab": {
      "provenance": [],
      "authorship_tag": "ABX9TyPKoK73niBbkgtsGxlQyVZe",
      "include_colab_link": true
    },
    "kernelspec": {
      "name": "python3",
      "display_name": "Python 3"
    },
    "language_info": {
      "name": "python"
    }
  },
  "cells": [
    {
      "cell_type": "markdown",
      "metadata": {
        "id": "view-in-github",
        "colab_type": "text"
      },
      "source": [
        "<a href=\"https://colab.research.google.com/github/Disha2704/pwskill-asignments/blob/main/5_feb.ipynb\" target=\"_parent\"><img src=\"https://colab.research.google.com/assets/colab-badge.svg\" alt=\"Open In Colab\"/></a>"
      ]
    },
    {
      "cell_type": "markdown",
      "source": [
        "Q1. Explain Class and Object with respect to Object-Oriented Programming. Give a suitable example.\n",
        "\n"
      ],
      "metadata": {
        "id": "gbvmZznnnxqZ"
      }
    },
    {
      "cell_type": "markdown",
      "source": [
        "Class: In object-oriented programming, a class is a blueprint or template that defines the properties and behavior of objects. It is a way of defining a new data type, and it can be used to create multiple objects of the same type.\n",
        "\n",
        "Object: An object is an instance of a class, which is created at runtime. An object has its own state (data) and behavior (methods). Objects are the basic building blocks of object-oriented programming and can interact with each other.\n"
      ],
      "metadata": {
        "id": "OFpeit11o45Y"
      }
    },
    {
      "cell_type": "code",
      "source": [
        "class greet:\n",
        "    \n",
        "    def welcome_msg(self):\n",
        "        print(\"welcome!!\")\n",
        "\n",
        "anyone=greet()\n",
        "anyone.welcome_msg()"
      ],
      "metadata": {
        "colab": {
          "base_uri": "https://localhost:8080/"
        },
        "id": "FCX667sdsKFz",
        "outputId": "8930d1c0-66ec-4d21-c32e-435b5bfd94fd"
      },
      "execution_count": 16,
      "outputs": [
        {
          "output_type": "stream",
          "name": "stdout",
          "text": [
            "welcome!!\n"
          ]
        }
      ]
    },
    {
      "cell_type": "markdown",
      "source": [
        "Q2. Name the four pillars of OOPs.\n",
        "\n",
        "\n"
      ],
      "metadata": {
        "id": "EaV3ier9nziw"
      }
    },
    {
      "cell_type": "markdown",
      "source": [
        "The four pillars of Object-Oriented Programming (OOP) are:\n",
        "\n",
        "Encapsulation: The concept of wrapping data and functions that operate on the data within an object, thereby hiding the implementation details from the outside world and promoting security and encapsulation of data.\n",
        "\n",
        "Abstraction: The process of hiding the implementation details and showing only the necessary information to the user. It provides a clear and simple interface to the object's behavior.\n",
        "\n",
        "Inheritance: The mechanism of creating new classes based on existing classes, thereby promoting code reuse and reducing redundancy. Child classes inherit the properties and methods of the parent class and can also add their own.\n",
        "\n",
        "Polymorphism: The ability of objects to take on multiple forms. This is achieved by allowing objects of different classes to respond to the same method call in a manner that is specific to their class."
      ],
      "metadata": {
        "id": "XuO07ifqrxdH"
      }
    },
    {
      "cell_type": "markdown",
      "source": [
        "Q3. Explain why the __init__() function is used. Give a suitable example."
      ],
      "metadata": {
        "id": "qgXYVkiyn_ph"
      }
    },
    {
      "cell_type": "markdown",
      "source": [
        "The __init__ method, also known as the constructor, is a special method in Python classes that is automatically called when an object of the class is created. The __init__ method is used to initialize the attributes of an object and to perform any setup that is necessary before the object is used.\n",
        "\n",
        "Here's an example in Python to illustrate the use of the __init__ method:"
      ],
      "metadata": {
        "id": "w1mgqWFdsBQr"
      }
    },
    {
      "cell_type": "code",
      "source": [
        "class details:\n",
        "    \n",
        "    def __init__(self ,phone_number , email_id, student_id ):\n",
        "  \n",
        "        self.email_id = email_id\n",
        "        self.phone_number = phone_number\n",
        "        self.student_id = student_id\n",
        "        \n",
        "    \n",
        "    def return_student_detials(self):\n",
        "        return self.phone_number, self.email_id , self.student_id"
      ],
      "metadata": {
        "id": "9hTXvLNTqAF-"
      },
      "execution_count": 10,
      "outputs": []
    },
    {
      "cell_type": "code",
      "source": [
        "student1= details(email_id= \"student1@gmail.com\",phone_number=999679869 ,student_id=102)\n",
        "student1.phone_number"
      ],
      "metadata": {
        "colab": {
          "base_uri": "https://localhost:8080/"
        },
        "id": "zc3r6SD3qGU_",
        "outputId": "2477bfcc-dd78-415d-a5e8-43116a265464"
      },
      "execution_count": 14,
      "outputs": [
        {
          "output_type": "execute_result",
          "data": {
            "text/plain": [
              "999679869"
            ]
          },
          "metadata": {},
          "execution_count": 14
        }
      ]
    },
    {
      "cell_type": "markdown",
      "source": [
        "\n",
        "Q4. Why self is used in OOPs?\n"
      ],
      "metadata": {
        "id": "15shLNPcn_zd"
      }
    },
    {
      "cell_type": "markdown",
      "source": [
        "In object-oriented programming, the self keyword is used to refer to the instance of an object within its own methods. It is a way of accessing the object's properties and methods from within the object itself.\n",
        "\n",
        "The self keyword is automatically passed to the object's methods when they are called, and it is used to refer to the object's attributes. This is necessary because the method doesn't have any direct access to the object's attributes, and self provides a way of accessing them.\n",
        "\n"
      ],
      "metadata": {
        "id": "cssj_jEswMDL"
      }
    },
    {
      "cell_type": "markdown",
      "source": [
        "Q5. What is inheritance? Give an example for each type of inheritance."
      ],
      "metadata": {
        "id": "P_C-TGfBn_59"
      }
    },
    {
      "cell_type": "markdown",
      "source": [
        "Inheritance is a mechanism in object-oriented programming (OOP) where a new class can be derived from an existing class. The derived class is called the subclass or child class, and the existing class is called the base class or parent class. The subclass inherits the attributes and behaviors of the parent class, and it can also add new attributes and behaviors of its own.\n",
        "\n",
        "There are several types of inheritance in OOP, including:\n",
        "\n",
        "Single inheritance: Single inheritance is when a subclass is derived from a single parent class. In this type of inheritance, the subclass inherits the attributes and behaviors of the parent class, and it can also add its own attributes and behaviors.\n",
        "\n",
        "\n",
        "Multiple inheritance: Multiple inheritance is when a subclass is derived from multiple parent classes. In this type of inheritance, the subclass inherits the attributes and behaviors of all parent classes.\n",
        "\n",
        "\n",
        "Multi-level inheritance: Multi-level inheritance is when a subclass is derived from a parent class, which is itself derived from another parent class. In this type of inheritance, the subclass inherits the attributes and behaviors of all parent classes in the inheritance hierarchy.\n",
        "Example:\n",
        "\n"
      ],
      "metadata": {
        "id": "hftzBMHww1wr"
      }
    },
    {
      "cell_type": "code",
      "source": [],
      "metadata": {
        "id": "gqhcGVkkw0_g"
      },
      "execution_count": null,
      "outputs": []
    }
  ]
}