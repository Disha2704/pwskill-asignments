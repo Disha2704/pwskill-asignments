{
  "nbformat": 4,
  "nbformat_minor": 0,
  "metadata": {
    "colab": {
      "provenance": [],
      "authorship_tag": "ABX9TyNqJ9hic2OUxGZpYfgggnhS",
      "include_colab_link": true
    },
    "kernelspec": {
      "name": "python3",
      "display_name": "Python 3"
    },
    "language_info": {
      "name": "python"
    }
  },
  "cells": [
    {
      "cell_type": "markdown",
      "metadata": {
        "id": "view-in-github",
        "colab_type": "text"
      },
      "source": [
        "<a href=\"https://colab.research.google.com/github/Disha2704/pwskill-asignments/blob/main/20_feb.ipynb\" target=\"_parent\"><img src=\"https://colab.research.google.com/assets/colab-badge.svg\" alt=\"Open In Colab\"/></a>"
      ]
    },
    {
      "cell_type": "markdown",
      "source": [
        "Q1. Explain GET and POST methods."
      ],
      "metadata": {
        "id": "0-Pfk2O4FZdT"
      }
    },
    {
      "cell_type": "markdown",
      "source": [
        "GET method:\n",
        "\n",
        "The GET method is used to request data from a specified resource. When you use GET method, the parameters are passed to the web server in the URL string. You can see these parameters in the URL bar of your web browser. This makes the GET method useful for simple requests like searching for a keyword or requesting a webpage.\n",
        "\n",
        "POST method:\n",
        "\n",
        "The POST method is used to submit data to be processed to a specified resource. The data submitted using POST is not visible in the URL bar of the web browser. This method is used when you want to submit sensitive data like passwords or when you want to update data on the server."
      ],
      "metadata": {
        "id": "ut_R45_FFxJ9"
      }
    },
    {
      "cell_type": "markdown",
      "source": [
        "Q2. Why is request used in Flask?"
      ],
      "metadata": {
        "id": "4z2oGiQTFZhF"
      }
    },
    {
      "cell_type": "markdown",
      "source": [
        "In Flask, the request object is used to access incoming request data like form data, JSON data, URL parameters, and more. The request object is an instance of the Request class, which provides a way to access and manipulate the incoming HTTP request.\n",
        "\n"
      ],
      "metadata": {
        "id": "CLmvgdWaGi84"
      }
    },
    {
      "cell_type": "markdown",
      "source": [
        "Q3. Why is redirect() used in Flask?"
      ],
      "metadata": {
        "id": "Pz_SLBzDFZlE"
      }
    },
    {
      "cell_type": "markdown",
      "source": [
        "In Flask, the redirect() function is used to redirect a client to a different URL. The redirect() function returns a response object that redirects the client to the specified URL."
      ],
      "metadata": {
        "id": "2aYAmNq7GyjN"
      }
    },
    {
      "cell_type": "markdown",
      "source": [
        "Q4. What are templates in Flask? Why is the render_template() function used?"
      ],
      "metadata": {
        "id": "kR0I3y-EFZnF"
      }
    },
    {
      "cell_type": "markdown",
      "source": [
        "In Flask, templates are used to generate dynamic HTML pages based on data from the server. Templates are written in a markup language called Jinja2, which is similar to HTML but includes additional features like variable substitution, loops, and conditionals.\n",
        "\n",
        "The render_template() function is used in Flask to render a template and return the resulting HTML to the client. The function takes the name of the template as its first argument, followed by any variables that should be passed to the template. The template file should be located in a templates directory within the Flask application."
      ],
      "metadata": {
        "id": "NZY_Tj9RG3FJ"
      }
    },
    {
      "cell_type": "markdown",
      "source": [
        "Q5. Create a simple API. Use Postman to test it. Attach the screenshot of the output in the Jupyter Notebook."
      ],
      "metadata": {
        "id": "25ntgcPvFnYH"
      }
    },
    {
      "cell_type": "code",
      "source": [
        "from flask import Flask, jsonify\n",
        "\n",
        "app = Flask(__name__)\n",
        "\n",
        "@app.route('/api')\n",
        "def api():\n",
        "    data = {\n",
        "        'name': 'abc,\n",
        "        'age': 30,\n",
        "        'location': 'xyz'\n",
        "    }\n",
        "    return jsonify(data)\n",
        "\n",
        "if __name__ == '__main__':\n",
        "    app.run(debug=True)\n"
      ],
      "metadata": {
        "id": "yIXS8h3MHIxa"
      },
      "execution_count": null,
      "outputs": []
    }
  ]
}