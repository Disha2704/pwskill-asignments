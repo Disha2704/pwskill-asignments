{
  "nbformat": 4,
  "nbformat_minor": 0,
  "metadata": {
    "colab": {
      "provenance": [],
      "authorship_tag": "ABX9TyMbaBnXApoBrSMiQdCzH4cY",
      "include_colab_link": true
    },
    "kernelspec": {
      "name": "python3",
      "display_name": "Python 3"
    },
    "language_info": {
      "name": "python"
    }
  },
  "cells": [
    {
      "cell_type": "markdown",
      "metadata": {
        "id": "view-in-github",
        "colab_type": "text"
      },
      "source": [
        "<a href=\"https://colab.research.google.com/github/Disha2704/pwskill-asignments/blob/main/7_feb.ipynb\" target=\"_parent\"><img src=\"https://colab.research.google.com/assets/colab-badge.svg\" alt=\"Open In Colab\"/></a>"
      ]
    },
    {
      "cell_type": "markdown",
      "source": [
        "Q1. You are writing code for a company. The requirement of the company is that you create a python\n",
        "function that will check whether the password entered by the user is correct or not. The function should\n",
        "take the password as input and return the string “Valid Password” if the entered password follows the\n",
        "below-given password guidelines else it should return “Invalid Password”.\n",
        "\n",
        "Note: 1. The Password should contain at least two uppercase letters and at least two lowercase letters.\n",
        "2. The Password should contain at least a number and three special characters.\n",
        "3. The length of the password should be 10 characters long."
      ],
      "metadata": {
        "id": "KAV5lwrLUiwB"
      }
    },
    {
      "cell_type": "code",
      "source": [
        "def chek_password(password):\n",
        "  upper_case=\"ABCDEFGHIJKLMNOPQRSTUVWXYZ\"\n",
        "  lower_case=upper_case.lower()\n",
        "  special_character=string.punctuation\n",
        "  numbers=\"1234567890\"\n",
        "\n",
        "  upper_character=\"\"\n",
        "  lower_character=\"\"\n",
        "  special_letter=\"\"\n",
        "  digit=\"\"\n",
        "\n",
        "  for i in input_password:\n",
        "    if i in upper_case:\n",
        "      upper_chracters=upper_character+i\n",
        "    elif i in lower_case:\n",
        "      lower_character=lower_character+i\n",
        "    elif i in numbers:\n",
        "      digit=digit+i\n",
        "    else:\n",
        "      special_letter=special_letter+i\n",
        "\n",
        "  flag=True\n",
        "  if len(upper_character)<2:\n",
        "    flag=False\n",
        "  if len(lower_character)<2:\n",
        "    flag=False\n",
        "  if len(digit)<1:\n",
        "    flag=False\n",
        "  if len(special_letter)<3:\n",
        "    flag=False\n",
        "  if len(password)!=10:\n",
        "    flag=False\n",
        "\n",
        "  if flag==True:\n",
        "    return \"valid password\"\n",
        "  else:\n",
        "    return \"invalid password\"\n",
        "password=input(\"enter password\\n\")\n",
        "chek_password(password)\n"
      ],
      "metadata": {
        "colab": {
          "base_uri": "https://localhost:8080/",
          "height": 70
        },
        "id": "Q1FkaraOGxRF",
        "outputId": "b021f18d-8ae2-4825-a9b2-cb3b3bf6bc02"
      },
      "execution_count": 23,
      "outputs": [
        {
          "name": "stdout",
          "output_type": "stream",
          "text": [
            "enter password\n",
            "12@#$DDdd6\n"
          ]
        },
        {
          "output_type": "execute_result",
          "data": {
            "text/plain": [
              "'invalid password'"
            ],
            "application/vnd.google.colaboratory.intrinsic+json": {
              "type": "string"
            }
          },
          "metadata": {},
          "execution_count": 23
        }
      ]
    },
    {
      "cell_type": "markdown",
      "source": [
        "Q2. Solve the below-given questions using at least one of the following:\n",
        "1. Lambda function\n",
        "2. Filter function\n",
        "3. map function\n",
        "4. List Comprehension\n",
        "\n",
        "\n",
        "\n",
        "\n",
        "\n",
        "\n",
        "- Check if the string starts with a particular letter\n",
        "\n",
        "- Check if the string is numeric\n",
        "\n",
        "- Sort a list of tuples having fruit names and their quantity. [(\"mango\",99),(\"orange\",80), (\"grapes\", 1000)]\n",
        "- Find the squares of numbers from 1 to 10\n",
        "\n",
        "- Find the cube root of numbers from 1 to 10\n",
        "\n",
        "- Check if a given number is even\n",
        "\n",
        "- Filter odd numbers from the given list.\n",
        "[1,2,3,4,5,6,7,8,9,10]\n",
        "\n",
        "- Sort a list of integers into positive and negative integers lists.\n",
        "[1,2,3,4,5,6,-1,-2,-3,-4,-5,0]\n",
        "\n"
      ],
      "metadata": {
        "id": "q1DBFbiFTNzd"
      }
    },
    {
      "cell_type": "code",
      "source": [
        "#Check if the string starts with a particular letter:\n",
        "def check_start_letter(word, letter):\n",
        "    return word.startswith(letter)\n",
        "word=\"pw-skills\"\n",
        "letter=\"p\"\n",
        "check_start_letter(word,letter)"
      ],
      "metadata": {
        "colab": {
          "base_uri": "https://localhost:8080/"
        },
        "id": "ErR0VUsETTeu",
        "outputId": "8c352edc-26d7-4215-9601-ff4c306081a4"
      },
      "execution_count": 29,
      "outputs": [
        {
          "output_type": "execute_result",
          "data": {
            "text/plain": [
              "True"
            ]
          },
          "metadata": {},
          "execution_count": 29
        }
      ]
    },
    {
      "cell_type": "code",
      "source": [
        "#Check if the string is numeric:\n",
        "def check_numeric(word):\n",
        "    return word.isdigit()\n",
        "check_numeric(\"45\")\n"
      ],
      "metadata": {
        "colab": {
          "base_uri": "https://localhost:8080/"
        },
        "id": "xFvJYT-JUZSV",
        "outputId": "6eb3f315-8e02-475d-c59c-91a1cb376f82"
      },
      "execution_count": 40,
      "outputs": [
        {
          "output_type": "execute_result",
          "data": {
            "text/plain": [
              "True"
            ]
          },
          "metadata": {},
          "execution_count": 40
        }
      ]
    },
    {
      "cell_type": "code",
      "source": [
        "#Sort a list of tuples having fruit names and their quantity. [(\"mango\",99),(\"orange\",80), (\"grapes\", 1000)]\n",
        "fruits = [(\"mango\", 99), (\"orange\", 80), (\"grapes\", 1000)]\n",
        "sorted_fruits = sorted(fruits, key=lambda x: x[1])\n",
        "print(sorted_fruits)"
      ],
      "metadata": {
        "colab": {
          "base_uri": "https://localhost:8080/"
        },
        "id": "0dK1yAiaUfKO",
        "outputId": "8116058e-a9d0-4f5c-e89b-b55a11fe165f"
      },
      "execution_count": 36,
      "outputs": [
        {
          "output_type": "stream",
          "name": "stdout",
          "text": [
            "[('orange', 80), ('mango', 99), ('grapes', 1000)]\n"
          ]
        }
      ]
    },
    {
      "cell_type": "code",
      "source": [
        "#Find the squares of numbers from 1 to 10\n",
        "squared_numbers = list(map(lambda x: x**2, range(1, 11)))\n",
        "print(squared_numbers)\n"
      ],
      "metadata": {
        "colab": {
          "base_uri": "https://localhost:8080/"
        },
        "id": "3YyPCKuaUfQ6",
        "outputId": "c0902972-3bb8-4ee8-93c4-7b00f32d9c83"
      },
      "execution_count": 35,
      "outputs": [
        {
          "output_type": "stream",
          "name": "stdout",
          "text": [
            "[1, 4, 9, 16, 25, 36, 49, 64, 81, 100]\n"
          ]
        }
      ]
    },
    {
      "cell_type": "code",
      "source": [
        "#Find the cube root of numbers from 1 to 10\n",
        "import math\n",
        "cube_roots = list(map(lambda x: round(x**(1/3), 2), range(1, 11)))\n",
        "print(cube_roots)\n"
      ],
      "metadata": {
        "colab": {
          "base_uri": "https://localhost:8080/"
        },
        "id": "Aje7d6jjUfUE",
        "outputId": "bfc23db3-a7dd-4cf3-b6d1-dad843dbff8b"
      },
      "execution_count": 34,
      "outputs": [
        {
          "output_type": "stream",
          "name": "stdout",
          "text": [
            "[1.0, 1.26, 1.44, 1.59, 1.71, 1.82, 1.91, 2.0, 2.08, 2.15]\n"
          ]
        }
      ]
    },
    {
      "cell_type": "code",
      "source": [
        "#Check if a given number is even\n",
        "def is_even(num):\n",
        "    return num % 2 == 0\n",
        "is_even(7)\n"
      ],
      "metadata": {
        "colab": {
          "base_uri": "https://localhost:8080/"
        },
        "id": "7ZCa8dWVUfW_",
        "outputId": "f19b6a1a-1bc9-4685-b33f-80b6339192f5"
      },
      "execution_count": 33,
      "outputs": [
        {
          "output_type": "execute_result",
          "data": {
            "text/plain": [
              "False"
            ]
          },
          "metadata": {},
          "execution_count": 33
        }
      ]
    },
    {
      "cell_type": "code",
      "source": [
        "#Filter odd numbers from the given list. [1,2,3,4,5,6,7,8,9,10]\n",
        "numbers = [1, 2, 3, 4, 5, 6, 7, 8, 9, 10]\n",
        "odd_numbers = list(filter(lambda x: x % 2 != 0, numbers))\n",
        "print(odd_numbers)\n"
      ],
      "metadata": {
        "colab": {
          "base_uri": "https://localhost:8080/"
        },
        "id": "A4gsfHoCUfZD",
        "outputId": "c8dc5c2b-e9b9-4d46-c755-adf009d59994"
      },
      "execution_count": 32,
      "outputs": [
        {
          "output_type": "stream",
          "name": "stdout",
          "text": [
            "[1, 3, 5, 7, 9]\n"
          ]
        }
      ]
    },
    {
      "cell_type": "code",
      "source": [
        "#Sort a list of integers into positive and negative integers lists. [1,2,3,4,5,6,-1,-2,-3,-4,-5,0]\n",
        "numbers = [1, 2, 3, 4, 5, 6, -1, -2, -3, -4, -5, 0]\n",
        "positive_numbers = list(filter(lambda x: x > 0, numbers))\n",
        "negative_numbers = list(filter(lambda x: x < 0, numbers))\n",
        "print(positive_numbers)\n",
        "print(negative_numbers)"
      ],
      "metadata": {
        "colab": {
          "base_uri": "https://localhost:8080/"
        },
        "id": "f-pbL_SCTMs6",
        "outputId": "5761941a-c2d3-443e-e048-677a38d2a728"
      },
      "execution_count": 31,
      "outputs": [
        {
          "output_type": "stream",
          "name": "stdout",
          "text": [
            "[1, 2, 3, 4, 5, 6]\n",
            "[-1, -2, -3, -4, -5]\n"
          ]
        }
      ]
    }
  ]
}