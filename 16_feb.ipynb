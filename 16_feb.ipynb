{
  "nbformat": 4,
  "nbformat_minor": 0,
  "metadata": {
    "colab": {
      "provenance": [],
      "authorship_tag": "ABX9TyMILGHFetyXdhffJ7oGCswS",
      "include_colab_link": true
    },
    "kernelspec": {
      "name": "python3",
      "display_name": "Python 3"
    },
    "language_info": {
      "name": "python"
    }
  },
  "cells": [
    {
      "cell_type": "markdown",
      "metadata": {
        "id": "view-in-github",
        "colab_type": "text"
      },
      "source": [
        "<a href=\"https://colab.research.google.com/github/Disha2704/pwskill-asignments/blob/main/16_feb.ipynb\" target=\"_parent\"><img src=\"https://colab.research.google.com/assets/colab-badge.svg\" alt=\"Open In Colab\"/></a>"
      ]
    },
    {
      "cell_type": "markdown",
      "source": [
        "Q1. What is a database? Differentiate between SQL and NoSQL databases."
      ],
      "metadata": {
        "id": "tE-DQyB3nX92"
      }
    },
    {
      "cell_type": "markdown",
      "source": [
        "A database is an organized collection of data stored and managed in a computer system. Databases are designed to store, retrieve, and manage data efficiently and securely. There are two primary types of databases: SQL and NoSQL."
      ],
      "metadata": {
        "id": "1qGQZRIMp8bR"
      }
    },
    {
      "cell_type": "markdown",
      "source": [
        "Here are some of the key differences between SQL and NoSQL databases:\n",
        "\n",
        "Data Model: SQL databases use a tabular, relational data model, while NoSQL databases use various non-tabular data models.\n",
        "\n",
        "Schema: SQL databases require a predefined schema that determines the structure of the data in the database, while NoSQL databases do not require a schema or allow for a flexible schema.\n",
        "\n",
        "Querying: SQL databases use SQL (Structured Query Language) to perform complex queries on related data across multiple tables. In contrast, NoSQL databases use proprietary query languages, APIs, and tools to perform queries."
      ],
      "metadata": {
        "id": "N3tsDHu1p863"
      }
    },
    {
      "cell_type": "markdown",
      "source": [
        "Q2. What is DDL? Explain why CREATE, DROP, ALTER, and TRUNCATE are used with an example."
      ],
      "metadata": {
        "id": "l2qKuDzwnYm1"
      }
    },
    {
      "cell_type": "markdown",
      "source": [
        "DDL stands for Data Definition Language, which is a subset of SQL (Structured Query Language) used to define the structure of a database. DDL statements are used to create, modify, and delete database objects, such as tables, indexes, and constraints. Here are some of the commonly used DDL statements:\n",
        "\n"
      ],
      "metadata": {
        "id": "wYxgihbWqUzg"
      }
    },
    {
      "cell_type": "code",
      "source": [
        "CREATE TABLE customers (\n",
        "    id INT PRIMARY KEY,\n",
        "    name VARCHAR(50),\n",
        "    email VARCHAR(50)\n",
        ");\n"
      ],
      "metadata": {
        "id": "2ayWq4rkqVbI"
      },
      "execution_count": null,
      "outputs": []
    },
    {
      "cell_type": "code",
      "source": [
        "DROP TABLE customers;\n"
      ],
      "metadata": {
        "id": "owb4enj2qW9K"
      },
      "execution_count": null,
      "outputs": []
    },
    {
      "cell_type": "code",
      "source": [
        "ALTER TABLE customers ADD COLUMN phone VARCHAR(20);\n"
      ],
      "metadata": {
        "id": "T-mZP8TQqY4Y"
      },
      "execution_count": null,
      "outputs": []
    },
    {
      "cell_type": "code",
      "source": [
        "TRUNCATE TABLE customers;\n"
      ],
      "metadata": {
        "id": "Gj1RxMD4qbL9"
      },
      "execution_count": null,
      "outputs": []
    },
    {
      "cell_type": "markdown",
      "source": [],
      "metadata": {
        "id": "l-MujbnwqD7L"
      }
    },
    {
      "cell_type": "markdown",
      "source": [
        "Q3. What is DML? Explain INSERT, UPDATE, and DELETE with an example."
      ],
      "metadata": {
        "id": "8_m4my9dnYp5"
      }
    },
    {
      "cell_type": "markdown",
      "source": [
        "DML stands for Data Manipulation Language, which is a subset of SQL (Structured Query Language) used to modify data in a database. DML consists of three primary commands: INSERT, UPDATE, and DELETE."
      ],
      "metadata": {
        "id": "G8Rb28KopWnx"
      }
    },
    {
      "cell_type": "markdown",
      "source": [
        "**INSERT INTO table_name (column1, column2, column3, ...)**\n",
        "\n",
        "VALUES (value1, value2, value3, ...);\n",
        "\n",
        "**UPDATE table_name**\n",
        "\n",
        "SET column1 = value1, column2 = value2, ...\n",
        "\n",
        "WHERE condition;\n",
        "\n",
        "**DELETE FROM table_name**\n",
        "\n",
        "WHERE condition;\n",
        "\n"
      ],
      "metadata": {
        "id": "azbjZElcpXE8"
      }
    },
    {
      "cell_type": "markdown",
      "source": [
        "Q4. What is DQL? Explain SELECT with an example."
      ],
      "metadata": {
        "id": "a0X5DoZWnYsd"
      }
    },
    {
      "cell_type": "markdown",
      "source": [
        "DQL stands for Data Query Language. It is a subset of SQL (Structured Query Language) used to retrieve data from a database. The most commonly used DQL statement is the SELECT statement, which is used to select data from one or more tables."
      ],
      "metadata": {
        "id": "_eV6aG6Po9mo"
      }
    },
    {
      "cell_type": "markdown",
      "source": [
        "SELECT column1, column2, ...\n",
        "\n",
        "FROM table_name\n",
        "\n",
        "WHERE condition;\n"
      ],
      "metadata": {
        "id": "Rm0uvGvCpEpi"
      }
    },
    {
      "cell_type": "markdown",
      "source": [
        "Q5. Explain Primary Key and Foreign Key."
      ],
      "metadata": {
        "id": "NkQu3jBYnYvI"
      }
    },
    {
      "cell_type": "markdown",
      "source": [
        "In a relational database, primary keys and foreign keys are used to establish relationships between tables.\n",
        "\n",
        "A primary key is a column or set of columns in a table that uniquely identifies each row in the table. A primary key cannot contain null values and must be unique for each row. A primary key is used to enforce the entity integrity constraint, which ensures that each row in a table is unique and can be identified.\n",
        "\n",
        "A foreign key is a column or set of columns in a table that refers to the primary key of another table. A foreign key establishes a link between two tables and is used to enforce referential integrity constraints. Referential integrity ensures that the relationships between tables are valid, and that no data is lost or corrupted due to a change in one table that affects another table."
      ],
      "metadata": {
        "id": "TZnZcjWBo0O5"
      }
    },
    {
      "cell_type": "markdown",
      "source": [
        "Q6. Write a python code to connect MySQL to python. Explain the cursor() and execute() method."
      ],
      "metadata": {
        "id": "Pz_dCEaznYxI"
      }
    },
    {
      "cell_type": "code",
      "source": [
        "import mysql.connector\n",
        "\n",
        "# establish connection\n",
        "mydb = mysql.connector.connect(user='username', password='password',\n",
        "                              host='hostname',\n",
        "                              database='database_name')\n",
        "\n",
        "# create cursor\n",
        "cursor = cnx.cursor()\n",
        "\n",
        "# execute SQL query\n",
        "query = \"SELECT * FROM table_name\"\n",
        "cursor.execute(query)\n",
        "\n",
        "# fetch results\n",
        "results = cursor.fetchall()\n",
        "\n",
        "# close cursor and connection\n",
        "mydb.close()\n",
        "mydb.close()\n"
      ],
      "metadata": {
        "id": "W9xqJsdDoT71"
      },
      "execution_count": null,
      "outputs": []
    },
    {
      "cell_type": "markdown",
      "source": [
        "Q7. Give the order of execution of SQL clauses in an SQL query."
      ],
      "metadata": {
        "id": "up-eg2RnnYzv"
      }
    },
    {
      "cell_type": "markdown",
      "source": [
        "The order of execution of SQL clauses in an SQL query is as follows:\n",
        "\n",
        "FROM clause: This clause specifies the table or tables from which the data will be selected.\n",
        "\n",
        "WHERE clause: This clause filters the rows returned by the query based on a specified condition.\n",
        "\n",
        "GROUP BY clause: This clause groups the rows that have the same values in the specified column or columns.\n",
        "\n",
        "HAVING clause: This clause filters the groups returned by the GROUP BY clause based on a specified condition.\n",
        "\n",
        "SELECT clause: This clause specifies the columns to be included in the result set.\n",
        "\n",
        "ORDER BY clause: This clause sorts the result set based on the specified column or columns.\n",
        "\n",
        "LIMIT/OFFSET clause: This clause limits the number of rows returned by the query and optionally skips a specified number of rows."
      ],
      "metadata": {
        "id": "50JRtoovoE9B"
      }
    }
  ]
}