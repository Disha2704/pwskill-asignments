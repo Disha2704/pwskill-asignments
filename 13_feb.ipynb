{
  "nbformat": 4,
  "nbformat_minor": 0,
  "metadata": {
    "colab": {
      "provenance": [],
      "authorship_tag": "ABX9TyOSu+i9CxNdACP/AipC5wzE",
      "include_colab_link": true
    },
    "kernelspec": {
      "name": "python3",
      "display_name": "Python 3"
    },
    "language_info": {
      "name": "python"
    }
  },
  "cells": [
    {
      "cell_type": "markdown",
      "metadata": {
        "id": "view-in-github",
        "colab_type": "text"
      },
      "source": [
        "<a href=\"https://colab.research.google.com/github/Disha2704/pwskill-asignments/blob/main/13_feb.ipynb\" target=\"_parent\"><img src=\"https://colab.research.google.com/assets/colab-badge.svg\" alt=\"Open In Colab\"/></a>"
      ]
    },
    {
      "cell_type": "markdown",
      "source": [
        "Q1. Explain why we have to use the Exception class while creating a Custom Exception."
      ],
      "metadata": {
        "id": "xZi-TGMYU0QB"
      }
    },
    {
      "cell_type": "markdown",
      "source": [
        "ANS)\n",
        "When creating a custom exception in a programming language, it is important to inherit from the built-in Exception class (or a subclass of Exception). This is because Exception provides the basic functionality and structure necessary for an exception to work properly within the language's error-handling system."
      ],
      "metadata": {
        "id": "IcODH7x0VWAa"
      }
    },
    {
      "cell_type": "markdown",
      "source": [
        "Q2. Write a python program to print Python Exception Hierarchy.\n",
        "\n",
        "---\n",
        "\n"
      ],
      "metadata": {
        "id": "tfqOFM5PVXjh"
      }
    },
    {
      "cell_type": "code",
      "source": [
        "def print_exception_hierarchy():\n",
        "    \"\"\"\n",
        "    Prints the Python exception hierarchy.\n",
        "    \"\"\"\n",
        "    for exc in Exception.__subclasses__():\n",
        "        print(exc.__name__)\n",
        "        for subexc in exc.__subclasses__():\n",
        "            print(\"  |-\", subexc.__name__)\n",
        "            for subsubexc in subexc.__subclasses__():\n",
        "                print(\"    |-\", subsubexc.__name__)\n",
        "                # Continue nesting sub-sub-classes as needed\n",
        "print_exception_hierarchy()"
      ],
      "metadata": {
        "id": "_0008qPrVbHk"
      },
      "execution_count": null,
      "outputs": []
    },
    {
      "cell_type": "markdown",
      "source": [
        "Q3. What errors are defined in the ArithmeticError class? Explain any two with an example."
      ],
      "metadata": {
        "id": "wwVSRwGNVvlA"
      }
    },
    {
      "cell_type": "markdown",
      "source": [
        "ANS)\n",
        "The ArithmeticError class in Python is a built-in exception class that is raised when an arithmetic operation fails. This exception class is a base class for all arithmetic-related errors in Python. Some of the errors defined in the ArithmeticError class include ZeroDivisionError, FloatingPointError, OverflowError, and UnderflowError."
      ],
      "metadata": {
        "id": "AF8bDyMRXJLq"
      }
    },
    {
      "cell_type": "code",
      "source": [
        "x = 10\n",
        "y = 0\n",
        "z = x / y  # raises a ZeroDivisionError\n"
      ],
      "metadata": {
        "id": "d7ej9DXkXO82"
      },
      "execution_count": null,
      "outputs": []
    },
    {
      "cell_type": "code",
      "source": [
        "import math\n",
        "\n",
        "x = math.exp(1000)  # raises a FloatingPointError\n"
      ],
      "metadata": {
        "id": "9NDGsX9RXxvR"
      },
      "execution_count": null,
      "outputs": []
    },
    {
      "cell_type": "markdown",
      "source": [
        "Q4. Why LookupError class is used? Explain with an example KeyError and IndexError."
      ],
      "metadata": {
        "id": "sPaK9xw2VwHt"
      }
    },
    {
      "cell_type": "markdown",
      "source": [
        "ANS)\n",
        "The LookupError class in Python is a base class for errors that occur when a specified key or index in a sequence or mapping is not found. This exception class is a base class for other more specific exception classes, such as KeyError and IndexError."
      ],
      "metadata": {
        "id": "hORbDUm_X3yQ"
      }
    },
    {
      "cell_type": "code",
      "source": [
        "d = {'a': 1, 'b': 2, 'c': 3}\n",
        "value = d['d']  # raises a KeyError\n"
      ],
      "metadata": {
        "id": "hm0EegrdYGss"
      },
      "execution_count": null,
      "outputs": []
    },
    {
      "cell_type": "code",
      "source": [
        "lst = [1, 2, 3]\n",
        "value = lst[3]  # raises an IndexError\n"
      ],
      "metadata": {
        "id": "qKNH1fJTYIGU"
      },
      "execution_count": null,
      "outputs": []
    },
    {
      "cell_type": "markdown",
      "source": [
        "Q4. Why LookupError class is used? Explain with an example KeyError and IndexError."
      ],
      "metadata": {
        "id": "WUlmS_09VzVV"
      }
    },
    {
      "cell_type": "markdown",
      "source": [
        "ANS)\n",
        "\n",
        "The LookupError class in Python is a base class for errors that occur when a specified key or index in a sequence or mapping is not found. This exception class is a base class for other more specific exception classes, such as KeyError and IndexError."
      ],
      "metadata": {
        "id": "83SlQ_ayYQ11"
      }
    },
    {
      "cell_type": "code",
      "source": [
        "d = {'a': 1, 'b': 2, 'c': 3}\n",
        "value = d['d']  # raises a KeyError\n"
      ],
      "metadata": {
        "id": "CtC0WWhpYTsz"
      },
      "execution_count": null,
      "outputs": []
    },
    {
      "cell_type": "code",
      "source": [
        "lst = [1, 2, 3]\n",
        "value = lst[3]  # raises an IndexError\n"
      ],
      "metadata": {
        "id": "ttQt6axGYT2X"
      },
      "execution_count": null,
      "outputs": []
    },
    {
      "cell_type": "markdown",
      "source": [
        "Q6. List down some best practices for exception handling in python.\n"
      ],
      "metadata": {
        "id": "RaC4OKoSV1di"
      }
    },
    {
      "cell_type": "markdown",
      "source": [
        "Exception handling is an essential aspect of writing robust and error-free code in Python. Here are some best practices for exception handling in Python:\n",
        "\n",
        "Use specific exception classes: It is best to use specific exception classes whenever possible, rather than catching all exceptions with a generic Exception catch block. Specific exceptions provide more detailed information about the error, which can make it easier to identify and fix the issue.\n",
        "\n",
        "Handle exceptions at the appropriate level: Exceptions should be handled at the appropriate level of the code. For example, if an error occurs within a function, the exception should be caught and handled within the function, rather than being propagated up to the calling code.\n",
        "\n",
        "Use finally blocks: The finally block is used to define a set of statements that will be executed regardless of whether an exception is raised or not. This block is commonly used to release resources, such as closing files or database connections.\n",
        "\n",
        "Provide meaningful error messages: When raising exceptions or catching them, it is important to provide meaningful error messages that describe the cause of the error. This can help to identify and fix the problem more quickly.\n",
        "\n",
        "Use context managers: Context managers are a convenient way to handle resources, such as files and database connections, and can help to ensure that they are properly closed or released when they are no longer needed."
      ],
      "metadata": {
        "id": "KQPCtDfaYcsb"
      }
    }
  ]
}