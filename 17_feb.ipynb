{
  "nbformat": 4,
  "nbformat_minor": 0,
  "metadata": {
    "colab": {
      "provenance": [],
      "authorship_tag": "ABX9TyNgWmJuIcZC3fJcRIchHRjU",
      "include_colab_link": true
    },
    "kernelspec": {
      "name": "python3",
      "display_name": "Python 3"
    },
    "language_info": {
      "name": "python"
    }
  },
  "cells": [
    {
      "cell_type": "markdown",
      "metadata": {
        "id": "view-in-github",
        "colab_type": "text"
      },
      "source": [
        "<a href=\"https://colab.research.google.com/github/Disha2704/pwskill-asignments/blob/main/17_feb.ipynb\" target=\"_parent\"><img src=\"https://colab.research.google.com/assets/colab-badge.svg\" alt=\"Open In Colab\"/></a>"
      ]
    },
    {
      "cell_type": "markdown",
      "source": [
        "Q1. What is MongoDB? Explain non-relational databases in short. In which scenarios it is preferred to use\n",
        "MongoDB over SQL databases?\n",
        "\n"
      ],
      "metadata": {
        "id": "Ih9aT2doF6xV"
      }
    },
    {
      "cell_type": "markdown",
      "source": [
        "MongoDB is a popular document-oriented NoSQL database that was designed to store and manage unstructured and semi-structured data. It is an open-source, high-performance, and highly scalable database that has gained widespread popularity due to its flexibility and ease of use.\n",
        "\n",
        "Non-relational databases, also known as NoSQL databases, are databases that do not follow the traditional relational database model. They store data in a more flexible and dynamic way, which makes them ideal for handling unstructured and semi-structured data. Non-relational databases can be categorized into different types, including document-oriented, key-value, column-oriented, and graph databases."
      ],
      "metadata": {
        "id": "luGnFZbRJrgE"
      }
    },
    {
      "cell_type": "markdown",
      "source": [
        "\n",
        "Q2. State and Explain the features of MongoDB."
      ],
      "metadata": {
        "id": "wCO_mH0mF9vq"
      }
    },
    {
      "cell_type": "markdown",
      "source": [
        "MongoDB is a popular document-oriented NoSQL database that offers several features that make it stand out from traditional SQL databases. Here are some of the key features of MongoDB:\n",
        "\n",
        "Document-oriented: MongoDB is a document-oriented database, which means that data is stored in documents rather than rows and columns. Each document can have its own unique structure, which makes it very flexible and scalable.\n",
        "\n",
        "Schemaless: In MongoDB, documents within a collection can have different fields and structures. This makes it easy to store and manage semi-structured and unstructured data.\n",
        "\n",
        "High Availability: MongoDB is designed to provide high availability and reliability. It supports replica sets, which are a group of MongoDB instances that contain the same data, and automatic failover, which means that if one instance fails, another instance automatically takes over."
      ],
      "metadata": {
        "id": "jJFSNn2hJWtr"
      }
    },
    {
      "cell_type": "markdown",
      "source": [
        "\n",
        "Q3. Write a code to connect MongoDB to Python. Also, create a database and a collection in MongoDB.\n",
        "\n",
        "\n"
      ],
      "metadata": {
        "id": "DyExTW0IGAab"
      }
    },
    {
      "cell_type": "code",
      "source": [
        "from pymongo import MongoClient\n",
        "\n",
        "# create a MongoClient object and connect to the MongoDB server\n",
        "client = MongoClient()\n",
        "\n",
        "# create a database and a collection\n",
        "db = client.mydatabase\n",
        "collection = db.mycollection\n",
        "\n",
        "# print the names of all the databases on the server\n",
        "print(client.list_database_names())\n",
        "\n",
        "# print the names of all the collections in the database\n",
        "print(db.list_collection_names())\n"
      ],
      "metadata": {
        "id": "8Lbt42n5I9U-"
      },
      "execution_count": null,
      "outputs": []
    },
    {
      "cell_type": "markdown",
      "source": [
        "Q4. Using the database and the collection created in question number 3, write a code to insert one record,and insert many records. Use the find() and find_one() methods to print the inserted record."
      ],
      "metadata": {
        "id": "ysaYsw60GAhW"
      }
    },
    {
      "cell_type": "code",
      "source": [
        "from pymongo import MongoClient\n",
        "\n",
        "# create a MongoClient object\n",
        "client = MongoClient()\n",
        "\n",
        "# create a database and collection\n",
        "db = client.mydatabase\n",
        "collection = db.mycollection\n",
        "\n",
        "# insert one record\n",
        "record1 = {\"name\": \"John\", \"age\": 25, \"city\": \"New York\"}\n",
        "result1 = collection.insert_one(record1)\n",
        "print(\"Inserted record with ID:\", result1.inserted_id)\n",
        "\n",
        "# insert many records\n",
        "records2 = [\n",
        "    {\"name\": \"Alice\", \"age\": 30, \"city\": \"San Francisco\"},\n",
        "    {\"name\": \"Bob\", \"age\": 35, \"city\": \"Los Angeles\"},\n",
        "    {\"name\": \"Charlie\", \"age\": 40, \"city\": \"Chicago\"}\n",
        "]\n",
        "result2 = collection.insert_many(records2)\n",
        "print(\"Inserted\", len(result2.inserted_ids), \"records\")\n",
        "\n",
        "# print the inserted record using find_one()\n",
        "print(\"One inserted record:\")\n",
        "print(collection.find_one({\"name\": \"John\"}))\n",
        "\n",
        "# print all the inserted records using find()\n",
        "print(\"All inserted records:\")\n",
        "for record in collection.find():\n",
        "    print(record)\n"
      ],
      "metadata": {
        "id": "BHScsAn1ITco"
      },
      "execution_count": null,
      "outputs": []
    },
    {
      "cell_type": "markdown",
      "source": [
        "\n",
        "Q5. Explain how you can use the find() method to query the MongoDB database. Write a simple code to\n",
        "demonstrate this."
      ],
      "metadata": {
        "id": "KzWW9WqCGAlE"
      }
    },
    {
      "cell_type": "markdown",
      "source": [
        "In MongoDB, the find() method is used to query a collection and retrieve documents that match a specified set of criteria. The find() method takes a query object as its parameter, which specifies the selection criteria for the query"
      ],
      "metadata": {
        "id": "V9HwPJ3PHpCb"
      }
    },
    {
      "cell_type": "code",
      "source": [
        "db.users.find({ age: { $gt: 30 } })\n"
      ],
      "metadata": {
        "id": "u1VL-ekhHp0m"
      },
      "execution_count": null,
      "outputs": []
    },
    {
      "cell_type": "markdown",
      "source": [
        "Q6. Explain the sort() method. Give an example to demonstrate sorting in MongoDB.\n"
      ],
      "metadata": {
        "id": "mJCw9N4oF-hT"
      }
    },
    {
      "cell_type": "markdown",
      "source": [
        "The sort() method in MongoDB is used to sort the documents in a collection based on a specified field or fields. This method is used to retrieve the documents in either ascending or descending order."
      ],
      "metadata": {
        "id": "AGLLMr7rHg9z"
      }
    },
    {
      "cell_type": "code",
      "source": [
        "db.books.find().sort({ published_date: 1 })\n"
      ],
      "metadata": {
        "id": "wP22VIwKHhjp"
      },
      "execution_count": null,
      "outputs": []
    },
    {
      "cell_type": "markdown",
      "source": [
        "\n",
        "Q7. Explain why delete_one(), delete_many(), and drop() is used."
      ],
      "metadata": {
        "id": "n_bVMl_7GQ9R"
      }
    },
    {
      "cell_type": "markdown",
      "source": [
        "In MongoDB, there are different methods to remove documents from a collection. Here's a brief explanation of the three methods you mentioned:\n",
        "\n",
        "delete_one(): This method removes a single document from a collection that matches the specified filter. If there are multiple documents that match the filter, only the first one will be deleted.\n",
        "For example, if you have a collection of users and you want to delete a specific user with the name \"Alice\", you could use the following code:\n",
        "\n",
        "db.users.delete_one({ name: \"Alice\" })\n",
        "\n",
        "This would remove the first document in the \"users\" collection that has a name field with the value \"Alice\".\n",
        "\n",
        "delete_many(): This method removes all documents from a collection that match the specified filter. This can be useful when you want to delete multiple documents at once.\n",
        "For example, if you have a collection of orders and you want to delete all orders that were placed before a certain date, you could use the following code:\n",
        " \n",
        "\n",
        "db.orders.delete_many({ order_date: { $lt: ISODate(\"2022-01-01\") } })\n",
        "This would remove all documents in the \"orders\" collection that have an \"order_date\" field with a value less than \"2022-01-01\".\n",
        "\n",
        "drop(): This method removes an entire collection from the database. This is different from the previous methods, which only remove documents from a collection.\n",
        "For example, if you want to completely remove a collection of users, you could use the following code:\n",
        "\n",
        "\n",
        "db.users.drop()\n",
        "This would remove the entire \"users\" collection from the database.\n",
        "\n",
        "It's important to note that these methods permanently delete data from the database, so it's recommended to use them with caution and make sure to double-check your filters before executing them."
      ],
      "metadata": {
        "id": "8_DUqBU4GjM3"
      }
    }
  ]
}