{
  "nbformat": 4,
  "nbformat_minor": 0,
  "metadata": {
    "colab": {
      "provenance": [],
      "authorship_tag": "ABX9TyOxiuUzUmm1rB6UWAdch3Vt",
      "include_colab_link": true
    },
    "kernelspec": {
      "name": "python3",
      "display_name": "Python 3"
    },
    "language_info": {
      "name": "python"
    }
  },
  "cells": [
    {
      "cell_type": "markdown",
      "metadata": {
        "id": "view-in-github",
        "colab_type": "text"
      },
      "source": [
        "<a href=\"https://colab.research.google.com/github/Disha2704/pwskill-asignments/blob/main/9_feb.ipynb\" target=\"_parent\"><img src=\"https://colab.research.google.com/assets/colab-badge.svg\" alt=\"Open In Colab\"/></a>"
      ]
    },
    {
      "cell_type": "markdown",
      "source": [
        "Q1, Create a vehicle class with an init method having instance variables as name_of_vehicle, max_speed\n",
        "and average_of_vehicle."
      ],
      "metadata": {
        "id": "4UFGiOCYCNTL"
      }
    },
    {
      "cell_type": "code",
      "source": [
        "class vehicle:\n",
        "  def __init__(self,name_of_vehicle,max_speed,average_of_vehicle):\n",
        "    self.name_of_vehicle=name_of_vehicle\n",
        "    self.max_speed=max_speed\n",
        "    self.average_of_vehicle=average_of_vehicle\n",
        "\n",
        "  def return_vehicle_details(self):\n",
        "    return self.name_of_vehicle,self.max_speed,self.average_of_vehicle\n",
        "\n",
        "v=vehicle(\"ennova\",1,34)\n",
        "print(v.return_vehicle_details())\n",
        "\n",
        "\n"
      ],
      "metadata": {
        "colab": {
          "base_uri": "https://localhost:8080/"
        },
        "id": "umHeiHq3CXxS",
        "outputId": "2ad55ecd-239e-4111-c1eb-d0055b46faed"
      },
      "execution_count": null,
      "outputs": [
        {
          "output_type": "stream",
          "name": "stdout",
          "text": [
            "('ennova', 1, 34)\n"
          ]
        }
      ]
    },
    {
      "cell_type": "markdown",
      "source": [
        "Q2. Create a child class car from the vehicle class created in Que 1, which will inherit the vehicle class.\n",
        "Create a method named seating_capacity which takes capacity as an argument and returns the name of\n",
        "the vehicle and its seating capacity."
      ],
      "metadata": {
        "id": "HPLwlFxtFcBB"
      }
    },
    {
      "cell_type": "code",
      "source": [
        "\n",
        "class car(vehicle):\n",
        "  def __init__(self,capacity):\n",
        "    self.capacity=capacity\n",
        "\n",
        "\n",
        "  def show_details(self):\n",
        "    print(self.name_of_vehicle)\n",
        "    print(self.capacity)\n",
        "\n",
        "child_class=car(6)\n",
        "child_class.show_details()\n",
        "\n"
      ],
      "metadata": {
        "id": "GcubIja3Fc1V"
      },
      "execution_count": null,
      "outputs": []
    },
    {
      "cell_type": "markdown",
      "source": [
        "Q3. What is multiple inheritance? Write a python code to demonstrate multiple inheritance.\n",
        "\n",
        "ANS)\n",
        "In Python, multiple inheritance is achieved by including multiple parent classes in the definition of a child class. This allows the child class to inherit all of the attributes and methods from its parent classes."
      ],
      "metadata": {
        "id": "XxJCJvar_p4W"
      }
    },
    {
      "cell_type": "code",
      "source": [
        "class Mammal:\n",
        "    def mammal_info(self):\n",
        "        print(\"Mammals can give direct birth.\")\n",
        "\n",
        "class WingedAnimal:\n",
        "    def winged_animal_info(self):\n",
        "        print(\"Winged animals can flap.\")\n",
        "\n",
        "class Bat(Mammal, WingedAnimal):\n",
        "    pass\n",
        "\n",
        "# create an object of Bat class\n",
        "b1 = Bat()\n",
        "\n",
        "b1.mammal_info()\n",
        "b1.winged_animal_info()"
      ],
      "metadata": {
        "colab": {
          "base_uri": "https://localhost:8080/"
        },
        "id": "_INHZhh3_3ss",
        "outputId": "ab8f5263-c792-461a-f3eb-c35a875784e8"
      },
      "execution_count": null,
      "outputs": [
        {
          "output_type": "stream",
          "name": "stdout",
          "text": [
            "Mammals can give direct birth.\n",
            "Winged animals can flap.\n"
          ]
        }
      ]
    },
    {
      "cell_type": "markdown",
      "source": [
        "Q4. What are getter and setter in python? Create a class and create a getter and a setter method in this\n",
        "class.\n",
        "\n",
        "ANS)\n",
        "Getter and setter methods are used to access and modify the values of private attributes of a class in Python.Getter methods are used to get the value of a private attribute, and setter methods are used to set the value of a private attribute. Getter and setter methods allow for more control over the way that attributes are accessed and modified."
      ],
      "metadata": {
        "id": "lbk-KM4iCFeL"
      }
    },
    {
      "cell_type": "code",
      "source": [
        "class Product:\n",
        "    def __init__(self, name, price):\n",
        "        self._name = name\n",
        "        self._price = price\n",
        "\n",
        "    def get_price(self):\n",
        "        return self._price\n",
        "\n",
        "    def set_price(self, price):\n",
        "        if price < 0:\n",
        "            raise ValueError(\"Price cannot be negative.\")\n",
        "        self._price = price\n",
        "\n",
        "product = Product(\"Apple\", 1)\n",
        "print(product.get_price())  \n",
        "\n",
        "product.set_price(2.0)\n",
        "print(product.get_price()) \n",
        "\n",
        "try:\n",
        "  product.set_price(-9)  \n",
        "except ValueError as e:\n",
        "  print(e)\n",
        "else:\n",
        "  print(product.get_price())\n"
      ],
      "metadata": {
        "colab": {
          "base_uri": "https://localhost:8080/"
        },
        "id": "ClExv0K__qfi",
        "outputId": "3d5c9697-d770-49fe-dfb9-1c39006b959d"
      },
      "execution_count": 40,
      "outputs": [
        {
          "output_type": "stream",
          "name": "stdout",
          "text": [
            "1\n",
            "2.0\n",
            "Price cannot be negative.\n"
          ]
        }
      ]
    },
    {
      "cell_type": "markdown",
      "source": [
        "Q5.What is method overriding in python? Write a python code to demonstrate method overriding.\n",
        "\n",
        "ANS)\n",
        "Method overriding in Python is a process of redefining a method in a subclass that is already defined in the parent class."
      ],
      "metadata": {
        "id": "DLpyUinEEbgL"
      }
    },
    {
      "cell_type": "code",
      "source": [
        "class Vehicle:\n",
        "    def start(self):\n",
        "        print(\"Vehicle is starting...\")\n",
        "\n",
        "class Car(Vehicle):\n",
        "    def start(self):\n",
        "        print(\"Car is starting...\")\n",
        "\n",
        "v = Vehicle()\n",
        "v.start() \n",
        "\n",
        "c = Car()\n",
        "c.start() \n"
      ],
      "metadata": {
        "colab": {
          "base_uri": "https://localhost:8080/"
        },
        "id": "CmluUGxnEeIT",
        "outputId": "871402bf-791e-4bf9-ee01-0a06c6dc036e"
      },
      "execution_count": 43,
      "outputs": [
        {
          "output_type": "stream",
          "name": "stdout",
          "text": [
            "Vehicle is starting...\n",
            "Car is starting...\n"
          ]
        }
      ]
    }
  ]
}