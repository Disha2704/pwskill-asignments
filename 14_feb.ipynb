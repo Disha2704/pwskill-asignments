{
  "nbformat": 4,
  "nbformat_minor": 0,
  "metadata": {
    "colab": {
      "provenance": [],
      "authorship_tag": "ABX9TyN2GST/016idmjxNdQaAuj4",
      "include_colab_link": true
    },
    "kernelspec": {
      "name": "python3",
      "display_name": "Python 3"
    },
    "language_info": {
      "name": "python"
    }
  },
  "cells": [
    {
      "cell_type": "markdown",
      "metadata": {
        "id": "view-in-github",
        "colab_type": "text"
      },
      "source": [
        "<a href=\"https://colab.research.google.com/github/Disha2704/pwskill-asignments/blob/main/14_feb.ipynb\" target=\"_parent\"><img src=\"https://colab.research.google.com/assets/colab-badge.svg\" alt=\"Open In Colab\"/></a>"
      ]
    },
    {
      "cell_type": "markdown",
      "source": [
        "1)what is multithreading in python? why is it used? Name the module used to handle threads in python.\n",
        "\n",
        "ANS)\n",
        "\n",
        "Multithreading in Python refers to the ability of a program to execute multiple threads concurrently, allowing multiple parts of the program to run in parallel. Each thread represents a separate flow of control within the program and can execute independently of the other threads.\n",
        "\n",
        "Multithreading is used in Python for a variety of reasons, including:\n",
        "\n",
        "To improve the performance of programs by executing time-consuming operations in parallel.\n",
        "\n",
        "To increase the responsiveness of user interfaces by allowing time-consuming operations to be performed in the background.\n",
        "\n",
        "To handle multiple client connections in server applications.\n",
        "\n",
        "To perform concurrent I/O operations, such as reading from or writing to multiple files.\n",
        "\n",
        "The threading module in Python is used to handle threads. This module provides a simple way to create and manage threads in Python programs. The threading module provides several classes and functions that can be used to create and manage threads, including the Thread class, which is used to create new threads, and the Lock class, which is used to manage access to shared resources between threads."
      ],
      "metadata": {
        "id": "xom-p2jVaG-o"
      }
    },
    {
      "cell_type": "markdown",
      "source": [
        "2)why threading module used? write the use of the following functions\n",
        "\n",
        " activeCount()\n",
        "\n",
        " currentThread()\n",
        "\n",
        " enumerate()"
      ],
      "metadata": {
        "id": "bstGlnDCaHBS"
      }
    },
    {
      "cell_type": "markdown",
      "source": [
        "ANS)\n",
        "\n",
        "The threading module in Python is used to handle threads, which are separate flows of control within a program that can execute concurrently. This module provides a simple way to create and manage threads in Python programs.\n",
        "\n",
        "Here are some uses of the following functions in the threading module:\n",
        "\n",
        "activeCount(): This function is used to get the number of threads that are currently active and running in the program. It returns an integer value that represents the number of active threads. This function is useful for monitoring the performance of programs that use threads, as it provides a way to track the number of threads that are executing at any given time.\n",
        "\n",
        "currentThread(): This function is used to get a reference to the current thread object that is executing the code. This function returns an instance of the Thread class that represents the current thread. This function is useful for accessing and modifying properties of the current thread, such as its name or status.\n",
        "\n",
        "enumerate(): This function is used to get a list of all thread objects that are currently active in the program. It returns a list of instances of the Thread class, one for each active thread. This function is useful for monitoring the performance of programs that use threads, as it provides a way to track the status and properties of all active threads in the program. It can also be used to iterate over all active threads and perform operations on them, such as setting the daemon flag or joining the thread."
      ],
      "metadata": {
        "id": "9A0VWNZEhfcX"
      }
    },
    {
      "cell_type": "markdown",
      "source": [
        "3.Explain the following functions\n",
        "\n",
        "run()\n",
        "\n",
        "start()\n",
        "\n",
        "join()\n",
        "\n",
        "isAlive()"
      ],
      "metadata": {
        "id": "YSOsgQsfamt1"
      }
    },
    {
      "cell_type": "markdown",
      "source": [],
      "metadata": {
        "id": "73zDbLqqh0t-"
      }
    },
    {
      "cell_type": "markdown",
      "source": [
        "ANS)\n",
        "The following functions are used in Python's threading module to manage threads:\n",
        "\n",
        "run(): This function is called when a thread is started using the start() method. The run() function is the entry point for the thread and contains the code that will be executed in the new thread. When the start() method is called, it creates a new thread and calls its run() method.\n",
        "\n",
        "start(): This function is used to start a new thread. When called, it creates a new thread and starts executing the code in the thread's run() method. The start() method does not block the calling thread and returns immediately after starting the new thread.\n",
        "\n",
        "join(): This function is used to wait for a thread to complete its execution. When the join() method is called on a thread, the calling thread blocks until the thread being joined completes its execution. This is useful when a program needs to wait for a thread to finish before continuing with its execution.\n",
        "\n",
        "isAlive(): This function is used to check whether a thread is currently executing or has completed its execution. When called on a thread, it returns True if the thread is currently executing and False if the thread has completed its execution. This function is useful for monitoring the status of threads and for determining whether a thread is still running before attempting to join it or perform other operations on it."
      ],
      "metadata": {
        "id": "4tX4qqFgh00q"
      }
    },
    {
      "cell_type": "markdown",
      "source": [
        "4.write a python program to create two threads. Thread one must print the list of squares and thread\n",
        "two must print the list of cubes"
      ],
      "metadata": {
        "id": "7w19rstMaHF_"
      }
    },
    {
      "cell_type": "code",
      "source": [
        "import threading\n",
        "\n",
        "def print_squares():\n",
        "    for i in range(1, 11):\n",
        "        print(f\"{i} squared is {i*i}\")\n",
        "\n",
        "def print_cubes():\n",
        "    for i in range(1, 11):\n",
        "        print(f\"{i} cubed is {i*i*i}\")\n",
        "\n",
        "if __name__ == \"__main__\":\n",
        "    t1 = threading.Thread(target=print_squares)\n",
        "    t2 = threading.Thread(target=print_cubes)\n",
        "    t1.start()\n",
        "    t2.start()\n"
      ],
      "metadata": {
        "colab": {
          "base_uri": "https://localhost:8080/"
        },
        "id": "W2c0K-hriIjf",
        "outputId": "e2ebf34d-f020-45f6-c6e9-316901caa38e"
      },
      "execution_count": 1,
      "outputs": [
        {
          "output_type": "stream",
          "name": "stdout",
          "text": [
            "1 squared is 1\n",
            "2 squared is 4\n",
            "3 squared is 9\n",
            "4 squared is 16\n",
            "5 squared is 25\n",
            "6 squared is 36\n",
            "7 squared is 49\n",
            "8 squared is 64\n",
            "9 squared is 81\n",
            "10 squared is 100\n",
            "1 cubed is 1\n",
            "2 cubed is 8\n",
            "3 cubed is 27\n",
            "4 cubed is 64\n",
            "5 cubed is 125\n",
            "6 cubed is 216\n",
            "7 cubed is 343\n",
            "8 cubed is 512\n",
            "9 cubed is 729\n",
            "10 cubed is 1000\n"
          ]
        }
      ]
    },
    {
      "cell_type": "markdown",
      "source": [
        "5.State advantages and disadvantages of multithreading"
      ],
      "metadata": {
        "id": "AIO5QNlvaHIr"
      }
    },
    {
      "cell_type": "markdown",
      "source": [
        "ANS)\n",
        "Advantages of multithreading:\n",
        "\n",
        "Improved performance: Multithreading allows programs to perform multiple tasks concurrently, which can significantly improve the program's performance and speed. By using multiple threads, a program can execute tasks in parallel, making better use of available CPU resources.\n",
        "\n",
        "Increased responsiveness: Multithreading can also make programs more responsive by allowing time-consuming tasks to be performed in the background while the program remains responsive to user input. This can improve the overall user experience and make the program feel more fluid and interactive.\n",
        "\n",
        "Resource sharing: Multithreading allows different threads to access the same resources simultaneously, which can make it easier to share data and resources between different parts of a program.\n",
        "\n",
        "Simplified program design: Multithreading can simplify program design by allowing complex tasks to be broken down into smaller, more manageable tasks that can be executed concurrently.\n",
        "\n",
        "Disadvantages of multithreading:\n",
        "\n",
        "Synchronization issues: Multithreading can lead to synchronization issues when multiple threads attempt to access the same resource simultaneously. This can result in race conditions, deadlocks, and other synchronization problems that can be difficult to debug and fix.\n",
        "\n",
        "Increased complexity: Multithreading can make programs more complex and harder to understand, especially when dealing with complex synchronization issues and thread interactions.\n",
        "\n",
        "Increased memory usage: Multithreading can also lead to increased memory usage, as each thread requires its own stack and other resources. This can be a problem for programs that need to run on resource-constrained devices or systems.\n",
        "\n",
        "Difficulty in debugging: Multithreaded programs are often more difficult to debug than single-threaded programs, as the behavior of the program can be unpredictable and difficult to reproduce. This can make it challenging to identify and fix bugs and other issues."
      ],
      "metadata": {
        "id": "qmZC3Vjait3s"
      }
    },
    {
      "cell_type": "markdown",
      "source": [
        "6.Explain deadlocks and race conditions."
      ],
      "metadata": {
        "id": "l4BVZM-3aHK7"
      }
    },
    {
      "cell_type": "markdown",
      "source": [
        "Deadlocks and race conditions are two common problems that can occur in multithreaded programs:\n",
        "\n",
        "Deadlocks:\n",
        "Deadlocks occur when two or more threads are blocked, each waiting for the other to release a resource that it needs in order to continue execution. In a deadlock situation, the threads are effectively stuck, and the program cannot make progress.\n",
        "\n",
        "For example, if two threads each hold a resource that the other thread needs in order to continue executing, and neither thread is willing to release its resource until it receives the resource it needs, then a deadlock can occur.\n",
        "\n",
        "Deadlocks can be prevented by carefully managing the acquisition and release of shared resources, and by avoiding circular dependencies between resources.\n",
        "\n",
        "Race conditions:\n",
        "Race conditions occur when two or more threads access a shared resource in an unpredictable order, and the final outcome of the program depends on the exact order in which the threads execute. In a race condition, the outcome of the program is unpredictable, and may vary from one run to the next.\n",
        "\n",
        "For example, if two threads access the same variable and both try to increment it at the same time, then the final value of the variable will depend on the exact order in which the threads execute.\n",
        "\n",
        "Race conditions can be prevented by using synchronization mechanisms such as locks or semaphores to ensure that only one thread can access a shared resource at a time. Synchronization mechanisms help to ensure that the threads access the shared resource in a predictable order, and can help to avoid race conditions.\n",
        "\n",
        "\n",
        "\n"
      ],
      "metadata": {
        "id": "8nqJXrxBjE8g"
      }
    }
  ]
}