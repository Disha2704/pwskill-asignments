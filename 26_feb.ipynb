{
  "nbformat": 4,
  "nbformat_minor": 0,
  "metadata": {
    "colab": {
      "provenance": [],
      "authorship_tag": "ABX9TyMTmsBnmB+jPngMajHBeOs8",
      "include_colab_link": true
    },
    "kernelspec": {
      "name": "python3",
      "display_name": "Python 3"
    },
    "language_info": {
      "name": "python"
    }
  },
  "cells": [
    {
      "cell_type": "markdown",
      "metadata": {
        "id": "view-in-github",
        "colab_type": "text"
      },
      "source": [
        "<a href=\"https://colab.research.google.com/github/Disha2704/pwskill-asignments/blob/main/26_feb.ipynb\" target=\"_parent\"><img src=\"https://colab.research.google.com/assets/colab-badge.svg\" alt=\"Open In Colab\"/></a>"
      ]
    },
    {
      "cell_type": "code",
      "execution_count": 5,
      "metadata": {
        "id": "ftNHT1CPK8Lj"
      },
      "outputs": [],
      "source": [
        "import numpy as np\n",
        "list_ = [ \"1\", \"2\" , \"3\" , \"4\" , \"5\"]\n",
        "array_list = np.array(list_)"
      ]
    },
    {
      "cell_type": "code",
      "source": [
        "array_list"
      ],
      "metadata": {
        "colab": {
          "base_uri": "https://localhost:8080/"
        },
        "id": "X2scuxIZRt9i",
        "outputId": "62342b4b-fcc3-46ef-c305-a11b592adcd3"
      },
      "execution_count": 6,
      "outputs": [
        {
          "output_type": "execute_result",
          "data": {
            "text/plain": [
              "array(['1', '2', '3', '4', '5'], dtype='<U1')"
            ]
          },
          "metadata": {},
          "execution_count": 6
        }
      ]
    },
    {
      "cell_type": "markdown",
      "source": [
        "Q1. Is there any difference in the data type of variables list_ and array_list? If there is then write a code\n",
        "to print the data types of both the variables."
      ],
      "metadata": {
        "id": "bShXEUXHSAMQ"
      }
    },
    {
      "cell_type": "code",
      "source": [
        "import numpy as np\n",
        "\n",
        "# Define a regular Python list\n",
        "list_ = [1, 2, 3]\n",
        "\n",
        "# Define a NumPy array\n",
        "array_list = np.array([1, 2, 3])\n",
        "\n",
        "# Print the data types of both variables\n",
        "print(type(list_))\n",
        "print(type(array_list))\n"
      ],
      "metadata": {
        "colab": {
          "base_uri": "https://localhost:8080/"
        },
        "id": "xbOBMZD0Sh1k",
        "outputId": "02d4d581-f4db-439f-892d-262ef53b5cb9"
      },
      "execution_count": 7,
      "outputs": [
        {
          "output_type": "stream",
          "name": "stdout",
          "text": [
            "<class 'list'>\n",
            "<class 'numpy.ndarray'>\n"
          ]
        }
      ]
    },
    {
      "cell_type": "markdown",
      "source": [
        "Q2. Write a code to print the data type of each and every element of both the variables list_ and\n",
        "array_list."
      ],
      "metadata": {
        "id": "fKbR9fJWSCmH"
      }
    },
    {
      "cell_type": "code",
      "source": [
        "for i in list_:\n",
        "  print(i,type(i))\n",
        "\n",
        "for i in array_list:\n",
        "  print(i,type(i))\n",
        "\n"
      ],
      "metadata": {
        "colab": {
          "base_uri": "https://localhost:8080/"
        },
        "id": "EHiT6nyFSo5H",
        "outputId": "e662a49a-899e-4715-ae61-0c66ac0d8b3d"
      },
      "execution_count": 14,
      "outputs": [
        {
          "output_type": "stream",
          "name": "stdout",
          "text": [
            "1 <class 'int'>\n",
            "2 <class 'int'>\n",
            "3 <class 'int'>\n",
            "1 <class 'numpy.int64'>\n",
            "2 <class 'numpy.int64'>\n",
            "3 <class 'numpy.int64'>\n"
          ]
        }
      ]
    },
    {
      "cell_type": "markdown",
      "source": [
        "Q3. Considering the following changes in the variable, array_list:\n",
        "\n",
        "array_list = np.array(object = list_, dtype = int)\n",
        "\n",
        "Will there be any difference in the data type of the elements present in both the variables, list_ and\n",
        "arra_list? If so then print the data types of each and every element present in both the variables, list_\n",
        "and arra_list.\n",
        "Consider the below code to answer further questions:\n",
        "\n",
        "import numpy as np\n",
        "\n",
        "num_list = [ [ 1 , 2 , 3 ] , [ 4 , 5 , 6 ] ]\n",
        "\n",
        "num_array = np.array(object = num_list)"
      ],
      "metadata": {
        "id": "OTWv33FGSCov"
      }
    },
    {
      "cell_type": "code",
      "source": [
        "import numpy as np\n",
        "\n",
        "# Define a list of lists\n",
        "list_ = [[1, 2, 3], [4, 5, 6], [7, 8, 9]]\n",
        "\n",
        "# Create a NumPy array from the list, with data type 'int'\n",
        "array_list = np.array(object=list_, dtype=int)\n",
        "\n",
        "# Print the data types of the elements in list_\n",
        "print(\"Data types in list_:\")\n",
        "for sublist in list_:\n",
        "    for element in sublist:\n",
        "        print(element  , type(element))\n",
        "\n",
        "# Print the data types of the elements in array_list\n",
        "print(\"Data types in array_list:\")\n",
        "for row in range(array_list.shape[0]):\n",
        "    for column in range(array_list.shape[1]):\n",
        "        print(array_list[row][column],type(array_list[row][column]))\n"
      ],
      "metadata": {
        "colab": {
          "base_uri": "https://localhost:8080/"
        },
        "id": "jRMhNVj9Ub78",
        "outputId": "edf01905-b14a-4fbb-e0c0-062f11349186"
      },
      "execution_count": 23,
      "outputs": [
        {
          "output_type": "stream",
          "name": "stdout",
          "text": [
            "Data types in list_:\n",
            "1 <class 'int'>\n",
            "2 <class 'int'>\n",
            "3 <class 'int'>\n",
            "4 <class 'int'>\n",
            "5 <class 'int'>\n",
            "6 <class 'int'>\n",
            "7 <class 'int'>\n",
            "8 <class 'int'>\n",
            "9 <class 'int'>\n",
            "Data types in array_list:\n",
            "1 <class 'numpy.int64'>\n",
            "2 <class 'numpy.int64'>\n",
            "3 <class 'numpy.int64'>\n",
            "4 <class 'numpy.int64'>\n",
            "5 <class 'numpy.int64'>\n",
            "6 <class 'numpy.int64'>\n",
            "7 <class 'numpy.int64'>\n",
            "8 <class 'numpy.int64'>\n",
            "9 <class 'numpy.int64'>\n"
          ]
        }
      ]
    },
    {
      "cell_type": "code",
      "source": [],
      "metadata": {
        "id": "G1RzfrDeUtnX"
      },
      "execution_count": null,
      "outputs": []
    },
    {
      "cell_type": "markdown",
      "source": [
        "Q4. Write a code to find the following characteristics of variable, num_array:\n",
        "(i) shape\n",
        "(ii) size"
      ],
      "metadata": {
        "id": "ixBQ01yqSCsM"
      }
    },
    {
      "cell_type": "code",
      "source": [
        "import numpy as np\n",
        "\n",
        "# Define a NumPy array\n",
        "num_array = np.array([[1, 2, 3], [4, 5, 6], [7, 8, 9]])\n",
        "\n",
        "# Find the shape of num_array\n",
        "shape = num_array.shape\n",
        "\n",
        "# Find the size of num_array\n",
        "size = num_array.size\n",
        "\n",
        "# Print the shape and size of num_array\n",
        "print(\"Shape:\", shape)\n",
        "print(\"Size:\", size)\n"
      ],
      "metadata": {
        "colab": {
          "base_uri": "https://localhost:8080/"
        },
        "id": "MUhQ6G5CUBbS",
        "outputId": "eb119638-58a0-45b4-84ad-0953cdfe66e2"
      },
      "execution_count": 16,
      "outputs": [
        {
          "output_type": "stream",
          "name": "stdout",
          "text": [
            "Shape: (3, 3)\n",
            "Size: 9\n"
          ]
        }
      ]
    },
    {
      "cell_type": "markdown",
      "source": [
        "Q5. Write a code to create numpy array of 3*3 matrix containing zeros only, using a numpy array\n",
        "creation function.\n",
        "\n",
        "[Hint: The size of the array will be 9 and the shape will be (3,3).]"
      ],
      "metadata": {
        "id": "E7hcaY2oSCu5"
      }
    },
    {
      "cell_type": "code",
      "source": [
        "array=np.zeros((3,3))\n",
        "array"
      ],
      "metadata": {
        "colab": {
          "base_uri": "https://localhost:8080/"
        },
        "id": "YjWTphosT4oA",
        "outputId": "25c91ebc-4f52-4ba4-debf-7348aba24686"
      },
      "execution_count": 18,
      "outputs": [
        {
          "output_type": "execute_result",
          "data": {
            "text/plain": [
              "array([[0., 0., 0.],\n",
              "       [0., 0., 0.],\n",
              "       [0., 0., 0.]])"
            ]
          },
          "metadata": {},
          "execution_count": 18
        }
      ]
    },
    {
      "cell_type": "markdown",
      "source": [
        "Q6. Create an identity matrix of shape (5,5) using numpy functions?\n",
        "\n",
        "[Hint: An identity matrix is a matrix containing 1 diagonally and other elements will be 0.]"
      ],
      "metadata": {
        "id": "EGp3ih98SPb_"
      }
    },
    {
      "cell_type": "code",
      "source": [
        "array=np.eye(5,5)\n",
        "array"
      ],
      "metadata": {
        "colab": {
          "base_uri": "https://localhost:8080/"
        },
        "id": "tRfiywktUKl7",
        "outputId": "b4f50a72-e963-4cb4-801a-7b5da683519b"
      },
      "execution_count": 20,
      "outputs": [
        {
          "output_type": "execute_result",
          "data": {
            "text/plain": [
              "array([[1., 0., 0., 0., 0.],\n",
              "       [0., 1., 0., 0., 0.],\n",
              "       [0., 0., 1., 0., 0.],\n",
              "       [0., 0., 0., 1., 0.],\n",
              "       [0., 0., 0., 0., 1.]])"
            ]
          },
          "metadata": {},
          "execution_count": 20
        }
      ]
    }
  ]
}