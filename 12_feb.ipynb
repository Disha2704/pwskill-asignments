{
  "nbformat": 4,
  "nbformat_minor": 0,
  "metadata": {
    "colab": {
      "provenance": [],
      "authorship_tag": "ABX9TyNWf2OARiEWcq4jB99ZpHKm",
      "include_colab_link": true
    },
    "kernelspec": {
      "name": "python3",
      "display_name": "Python 3"
    },
    "language_info": {
      "name": "python"
    }
  },
  "cells": [
    {
      "cell_type": "markdown",
      "metadata": {
        "id": "view-in-github",
        "colab_type": "text"
      },
      "source": [
        "<a href=\"https://colab.research.google.com/github/Disha2704/pwskill-asignments/blob/main/12_feb.ipynb\" target=\"_parent\"><img src=\"https://colab.research.google.com/assets/colab-badge.svg\" alt=\"Open In Colab\"/></a>"
      ]
    },
    {
      "cell_type": "markdown",
      "source": [
        "Q1. What is an Exception in pthon? Write the differene between Exceptions and syntax error?\n",
        "ANS)\n",
        "An exception in Python is an error that occurs during the execution of a program. When an exception occurs, the program halts and displays an error message. \n",
        "\n",
        "The main difference between exceptions and syntax errors is that exceptions occur during program execution, while syntax errors occur during program compilation. Exceptions can also be handled by the program using try/except blocks, whereas syntax errors must be corrected by editing the code.\n"
      ],
      "metadata": {
        "id": "7ChehZl46x2j"
      }
    },
    {
      "cell_type": "markdown",
      "source": [
        "Q2. What happens when an exception is not handled? Explain with an example\n",
        "ANS)\n",
        "When an exception is not handled in a Python program, the program terminates and the exception traceback is displayed. The traceback provides information about the exception that occurred, including the type of exception, the line of code where the exception occurred, and the call stack leading up to the exception. \n"
      ],
      "metadata": {
        "id": "eo6wh2AY7rVB"
      }
    },
    {
      "cell_type": "code",
      "execution_count": null,
      "metadata": {
        "id": "iLrHg4bh6tqX"
      },
      "outputs": [],
      "source": [
        "def divide(a, b):\n",
        "    return a / b\n",
        "\n",
        "divide(10, 0)\n"
      ]
    },
    {
      "cell_type": "markdown",
      "source": [
        "Q3. Which Python statements are used to catch and handle exceptions? Explain with an example\n",
        "\n",
        "ANS)\n",
        "\n",
        "In Python, the try and except statements are used to catch and handle exceptions. The try statement is used to enclose the code that may raise an exception, and the except statement is used to define the actions to be taken when the exception is raised."
      ],
      "metadata": {
        "id": "YHXXr_DM94gf"
      }
    },
    {
      "cell_type": "markdown",
      "source": [
        "Q4. Explain with an example:\n",
        "\n",
        "1)try nd else\n",
        "\n",
        "2)finally\n",
        "\n",
        "3)raise\n",
        "\n",
        "ANS)\n",
        "\n",
        "The try statement is used to enclose the code that may raise an exception. The else statement is used to define the actions to be taken when no exception is raised. The finally statement is used to define the actions to be taken regardless of whether an exception is raised or not.\n",
        "\n"
      ],
      "metadata": {
        "id": "tz3_0wiU-q6A"
      }
    },
    {
      "cell_type": "code",
      "source": [
        "try:\n",
        "    x = int(input(\"Enter a number: \"))\n",
        "except ValueError:\n",
        "    print(\"Invalid input\")\n",
        "else:\n",
        "    print(\"You entered:\", x)\n",
        "finally:\n",
        "    print(\"Program execution complete\")\n"
      ],
      "metadata": {
        "colab": {
          "base_uri": "https://localhost:8080/"
        },
        "id": "iR5A8jWp_QwG",
        "outputId": "8d535481-15e3-409a-9a17-e3f3b5be1d1c"
      },
      "execution_count": 5,
      "outputs": [
        {
          "output_type": "stream",
          "name": "stdout",
          "text": [
            "Enter a number: 3\n",
            "You entered: 3\n",
            "Program execution complete\n"
          ]
        }
      ]
    },
    {
      "cell_type": "markdown",
      "source": [
        "We can also use the raise statement to raise an exception manually. For example:\n"
      ],
      "metadata": {
        "id": "a28nqdDg_gf4"
      }
    },
    {
      "cell_type": "code",
      "source": [
        "try:\n",
        "    x = int(input(\"Enter a number: \"))\n",
        "    if x < 0:\n",
        "        raise ValueError(\"Negative value entered\")\n",
        "except ValueError as err:\n",
        "    print(\"Invalid input:\", err)\n",
        "else:\n",
        "    print(\"You entered:\", x)\n",
        "finally:\n",
        "    print(\"Program execution complete\")\n"
      ],
      "metadata": {
        "colab": {
          "base_uri": "https://localhost:8080/"
        },
        "id": "NXu5uos9_axn",
        "outputId": "d97722f0-9855-4d23-a93a-1bb8e480f9de"
      },
      "execution_count": 20,
      "outputs": [
        {
          "output_type": "stream",
          "name": "stdout",
          "text": [
            "Enter a number: 4\n",
            "You entered: 4\n",
            "Program execution complete\n"
          ]
        }
      ]
    },
    {
      "cell_type": "code",
      "source": [
        "try:\n",
        "    x = 10 / 0\n",
        "except ZeroDivisionError:\n",
        "    print(\"Cannot divide by zero\")\n"
      ],
      "metadata": {
        "colab": {
          "base_uri": "https://localhost:8080/"
        },
        "id": "5GwrsB6r-jw2",
        "outputId": "e21c6ca1-0ab7-4a54-f585-a4115dcb1b1f"
      },
      "execution_count": 3,
      "outputs": [
        {
          "output_type": "stream",
          "name": "stdout",
          "text": [
            "Cannot divide by zero\n"
          ]
        }
      ]
    },
    {
      "cell_type": "markdown",
      "source": [
        "Q5. What are Custom Exceptions in pthon? Why do we need Custom Ex,eptions? Explain with an example\n",
        "ANS)\n",
        "\n",
        "Custom exceptions in Python are user-defined exceptions that extend the built-in Exception class. They allow programmers to define their own exception types that are specific to their programs and can be used to handle errors in a more granular way.\n",
        "\n",
        "We need custom exceptions in Python for several reasons, including:\n",
        "\n",
        "To provide more specific error messages: By creating custom exceptions that are tailored to specific use cases, programmers can provide more detailed and informative error messages that make it easier to debug problems.\n",
        "\n",
        "To separate error handling from program logic: Custom exceptions can be used to separate error handling code from the main logic of the program, making the code easier to read and maintain.\n",
        "\n",
        "To make error handling more robust: Custom exceptions can be used to catch specific errors and handle them in a way that makes the program more robust and less prone to crashing."
      ],
      "metadata": {
        "id": "cmQjHf9w9ER3"
      }
    },
    {
      "cell_type": "markdown",
      "source": [
        "Q6. Create a custom exception class.Use this class to hanle an exception.\n"
      ],
      "metadata": {
        "id": "gIxdVUAZ8pyH"
      }
    },
    {
      "cell_type": "code",
      "source": [
        "class validateAge(Exception):\n",
        "    def __init__(self, message):\n",
        "        self.message=message\n",
        "\n",
        "def validate_age(age):\n",
        "    if age > 100:\n",
        "        raise validateAge(\"you are too big\")\n",
        "    elif age < 0:\n",
        "        raise validateAge(\"enter proper age, age can't be negative\")\n",
        "    else:\n",
        "        print(\"you lie between proper age class\")\n",
        "\n",
        "\n",
        "\n",
        "\n",
        "def check_user_input(age):\n",
        "    try:\n",
        "        val = int(age)\n",
        "     \n",
        "    except ValueError:\n",
        "        try:\n",
        "            val = float(age)\n",
        "            raise validateAge(\"No.. input is not a number. It's a float\")\n",
        "        except ValueError:\n",
        "            raise validateAge(\"No.. age cant be text. your input is text .enter proper age in number\")\n",
        "\n",
        "\n",
        "try:\n",
        "    age = input(\"What is your age? \")\n",
        "    check_user_input(age)\n",
        "    validate_age(int(age))\n",
        "except validateAge as e:\n",
        "    print(e)\n",
        "\n"
      ],
      "metadata": {
        "colab": {
          "base_uri": "https://localhost:8080/"
        },
        "id": "AOvxA_s48-Q9",
        "outputId": "7068769e-bd92-4af9-d2f2-0eaf4a1569cb"
      },
      "execution_count": 2,
      "outputs": [
        {
          "output_type": "stream",
          "name": "stdout",
          "text": [
            "What is your age? ds\n",
            "No.. age cant be text. your input is text .enter proper age in number\n"
          ]
        }
      ]
    }
  ]
}