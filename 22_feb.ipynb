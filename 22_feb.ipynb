{
  "nbformat": 4,
  "nbformat_minor": 0,
  "metadata": {
    "colab": {
      "provenance": [],
      "authorship_tag": "ABX9TyNoFq1SMZjZ3AhzDc1IxemX",
      "include_colab_link": true
    },
    "kernelspec": {
      "name": "python3",
      "display_name": "Python 3"
    },
    "language_info": {
      "name": "python"
    }
  },
  "cells": [
    {
      "cell_type": "markdown",
      "metadata": {
        "id": "view-in-github",
        "colab_type": "text"
      },
      "source": [
        "<a href=\"https://colab.research.google.com/github/Disha2704/pwskill-asignments/blob/main/22_feb.ipynb\" target=\"_parent\"><img src=\"https://colab.research.google.com/assets/colab-badge.svg\" alt=\"Open In Colab\"/></a>"
      ]
    },
    {
      "cell_type": "code",
      "source": [
        "import pandas as pd\n"
      ],
      "metadata": {
        "id": "ofK7fYPrF3fN"
      },
      "execution_count": 2,
      "outputs": []
    },
    {
      "cell_type": "markdown",
      "source": [
        "Q1. Create a Pandas Series that contains the following data: 4, 8, 15, 16, 23, and 42. Then, print the series."
      ],
      "metadata": {
        "id": "0ZrVrZ0bEXcM"
      }
    },
    {
      "cell_type": "code",
      "source": [
        "series_data=[4, 8, 15, 16, 23, 42]\n",
        "df=pd.Series(series_data)"
      ],
      "metadata": {
        "id": "VUPkY7_aFZ7F"
      },
      "execution_count": 3,
      "outputs": []
    },
    {
      "cell_type": "code",
      "source": [
        "print(df)"
      ],
      "metadata": {
        "colab": {
          "base_uri": "https://localhost:8080/"
        },
        "id": "-_o-JjLsF8Wm",
        "outputId": "8e486add-1709-4340-9d73-e36206da2237"
      },
      "execution_count": 4,
      "outputs": [
        {
          "output_type": "stream",
          "name": "stdout",
          "text": [
            "0     4\n",
            "1     8\n",
            "2    15\n",
            "3    16\n",
            "4    23\n",
            "5    42\n",
            "dtype: int64\n"
          ]
        }
      ]
    },
    {
      "cell_type": "markdown",
      "source": [
        "Q2. Create a variable of list type containing 10 elements in it, and apply pandas.Series function on the\n",
        "variable print it."
      ],
      "metadata": {
        "id": "fTeTNx8vEXkJ"
      }
    },
    {
      "cell_type": "code",
      "source": [
        "lst=[1,2,3,4,5,6,7,8,9,10]\n",
        "df=pd.Series(lst)\n",
        "\n",
        "print(df)"
      ],
      "metadata": {
        "colab": {
          "base_uri": "https://localhost:8080/"
        },
        "id": "owy5o1_rGAVR",
        "outputId": "11a7ef91-319c-4cb1-ca5c-93af9803e53c"
      },
      "execution_count": 6,
      "outputs": [
        {
          "output_type": "stream",
          "name": "stdout",
          "text": [
            "0     1\n",
            "1     2\n",
            "2     3\n",
            "3     4\n",
            "4     5\n",
            "5     6\n",
            "6     7\n",
            "7     8\n",
            "8     9\n",
            "9    10\n",
            "dtype: int64\n"
          ]
        }
      ]
    },
    {
      "cell_type": "markdown",
      "source": [
        "Q3. Create a Pandas DataFrame that contains the following data:\n",
        "![image.png](data:image/png;base64,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)"
      ],
      "metadata": {
        "id": "OKkf12Q-EXnH"
      }
    },
    {
      "cell_type": "code",
      "source": [
        "data={\"name\":[\"Alice\",\"Bob\",\"Claire\"],\n",
        "      \"Age\":[25,30,27],\n",
        "      \"Gender\":[\"Female\",\"Male\",\"Female\"]}\n",
        "df=pd.DataFrame(data)\n",
        "\n",
        "df"
      ],
      "metadata": {
        "colab": {
          "base_uri": "https://localhost:8080/",
          "height": 143
        },
        "id": "k_b-ZA51I_ZB",
        "outputId": "13161591-41cd-4ef6-dbf5-9d182db9f6a0"
      },
      "execution_count": 13,
      "outputs": [
        {
          "output_type": "execute_result",
          "data": {
            "text/plain": [
              "     name  Age  Gender\n",
              "0   Alice   25  Female\n",
              "1     Bob   30    Male\n",
              "2  Claire   27  Female"
            ],
            "text/html": [
              "\n",
              "  <div id=\"df-8fe22b1a-7602-4019-bb62-6fcbd6c6e3fc\">\n",
              "    <div class=\"colab-df-container\">\n",
              "      <div>\n",
              "<style scoped>\n",
              "    .dataframe tbody tr th:only-of-type {\n",
              "        vertical-align: middle;\n",
              "    }\n",
              "\n",
              "    .dataframe tbody tr th {\n",
              "        vertical-align: top;\n",
              "    }\n",
              "\n",
              "    .dataframe thead th {\n",
              "        text-align: right;\n",
              "    }\n",
              "</style>\n",
              "<table border=\"1\" class=\"dataframe\">\n",
              "  <thead>\n",
              "    <tr style=\"text-align: right;\">\n",
              "      <th></th>\n",
              "      <th>name</th>\n",
              "      <th>Age</th>\n",
              "      <th>Gender</th>\n",
              "    </tr>\n",
              "  </thead>\n",
              "  <tbody>\n",
              "    <tr>\n",
              "      <th>0</th>\n",
              "      <td>Alice</td>\n",
              "      <td>25</td>\n",
              "      <td>Female</td>\n",
              "    </tr>\n",
              "    <tr>\n",
              "      <th>1</th>\n",
              "      <td>Bob</td>\n",
              "      <td>30</td>\n",
              "      <td>Male</td>\n",
              "    </tr>\n",
              "    <tr>\n",
              "      <th>2</th>\n",
              "      <td>Claire</td>\n",
              "      <td>27</td>\n",
              "      <td>Female</td>\n",
              "    </tr>\n",
              "  </tbody>\n",
              "</table>\n",
              "</div>\n",
              "      <button class=\"colab-df-convert\" onclick=\"convertToInteractive('df-8fe22b1a-7602-4019-bb62-6fcbd6c6e3fc')\"\n",
              "              title=\"Convert this dataframe to an interactive table.\"\n",
              "              style=\"display:none;\">\n",
              "        \n",
              "  <svg xmlns=\"http://www.w3.org/2000/svg\" height=\"24px\"viewBox=\"0 0 24 24\"\n",
              "       width=\"24px\">\n",
              "    <path d=\"M0 0h24v24H0V0z\" fill=\"none\"/>\n",
              "    <path d=\"M18.56 5.44l.94 2.06.94-2.06 2.06-.94-2.06-.94-.94-2.06-.94 2.06-2.06.94zm-11 1L8.5 8.5l.94-2.06 2.06-.94-2.06-.94L8.5 2.5l-.94 2.06-2.06.94zm10 10l.94 2.06.94-2.06 2.06-.94-2.06-.94-.94-2.06-.94 2.06-2.06.94z\"/><path d=\"M17.41 7.96l-1.37-1.37c-.4-.4-.92-.59-1.43-.59-.52 0-1.04.2-1.43.59L10.3 9.45l-7.72 7.72c-.78.78-.78 2.05 0 2.83L4 21.41c.39.39.9.59 1.41.59.51 0 1.02-.2 1.41-.59l7.78-7.78 2.81-2.81c.8-.78.8-2.07 0-2.86zM5.41 20L4 18.59l7.72-7.72 1.47 1.35L5.41 20z\"/>\n",
              "  </svg>\n",
              "      </button>\n",
              "      \n",
              "  <style>\n",
              "    .colab-df-container {\n",
              "      display:flex;\n",
              "      flex-wrap:wrap;\n",
              "      gap: 12px;\n",
              "    }\n",
              "\n",
              "    .colab-df-convert {\n",
              "      background-color: #E8F0FE;\n",
              "      border: none;\n",
              "      border-radius: 50%;\n",
              "      cursor: pointer;\n",
              "      display: none;\n",
              "      fill: #1967D2;\n",
              "      height: 32px;\n",
              "      padding: 0 0 0 0;\n",
              "      width: 32px;\n",
              "    }\n",
              "\n",
              "    .colab-df-convert:hover {\n",
              "      background-color: #E2EBFA;\n",
              "      box-shadow: 0px 1px 2px rgba(60, 64, 67, 0.3), 0px 1px 3px 1px rgba(60, 64, 67, 0.15);\n",
              "      fill: #174EA6;\n",
              "    }\n",
              "\n",
              "    [theme=dark] .colab-df-convert {\n",
              "      background-color: #3B4455;\n",
              "      fill: #D2E3FC;\n",
              "    }\n",
              "\n",
              "    [theme=dark] .colab-df-convert:hover {\n",
              "      background-color: #434B5C;\n",
              "      box-shadow: 0px 1px 3px 1px rgba(0, 0, 0, 0.15);\n",
              "      filter: drop-shadow(0px 1px 2px rgba(0, 0, 0, 0.3));\n",
              "      fill: #FFFFFF;\n",
              "    }\n",
              "  </style>\n",
              "\n",
              "      <script>\n",
              "        const buttonEl =\n",
              "          document.querySelector('#df-8fe22b1a-7602-4019-bb62-6fcbd6c6e3fc button.colab-df-convert');\n",
              "        buttonEl.style.display =\n",
              "          google.colab.kernel.accessAllowed ? 'block' : 'none';\n",
              "\n",
              "        async function convertToInteractive(key) {\n",
              "          const element = document.querySelector('#df-8fe22b1a-7602-4019-bb62-6fcbd6c6e3fc');\n",
              "          const dataTable =\n",
              "            await google.colab.kernel.invokeFunction('convertToInteractive',\n",
              "                                                     [key], {});\n",
              "          if (!dataTable) return;\n",
              "\n",
              "          const docLinkHtml = 'Like what you see? Visit the ' +\n",
              "            '<a target=\"_blank\" href=https://colab.research.google.com/notebooks/data_table.ipynb>data table notebook</a>'\n",
              "            + ' to learn more about interactive tables.';\n",
              "          element.innerHTML = '';\n",
              "          dataTable['output_type'] = 'display_data';\n",
              "          await google.colab.output.renderOutput(dataTable, element);\n",
              "          const docLink = document.createElement('div');\n",
              "          docLink.innerHTML = docLinkHtml;\n",
              "          element.appendChild(docLink);\n",
              "        }\n",
              "      </script>\n",
              "    </div>\n",
              "  </div>\n",
              "  "
            ]
          },
          "metadata": {},
          "execution_count": 13
        }
      ]
    },
    {
      "cell_type": "markdown",
      "source": [
        "Q4. What is ‘DataFrame’ in pandas and how is it different from pandas.series? Explain with an example."
      ],
      "metadata": {
        "id": "D6nVzs4OEqWd"
      }
    },
    {
      "cell_type": "markdown",
      "source": [
        "In Pandas, a DataFrame is a two-dimensional tabular data structure with rows and columns. It is a core data structure in Pandas and is used to represent and manipulate data in a way that is similar to spreadsheets or SQL tables. A DataFrame can be thought of as a collection of Series objects that share the same index.\n",
        "\n",
        "On the other hand, a Series is a one-dimensional labeled array capable of holding any data type. It is similar to a column in a spreadsheet or a SQL table. It has an index that labels each element in the array."
      ],
      "metadata": {
        "id": "Sil_jP3DKVF-"
      }
    },
    {
      "cell_type": "code",
      "source": [
        "import pandas as pd\n",
        "data = {\n",
        "    \"name\": [\"Alice\", \"Bob\", \"Claire\"],\n",
        "    \"Age\": [25, 30, 27],\n",
        "    \"Gender\": [\"Female\", \"Male\", \"Female\"]\n",
        "}\n",
        "\n",
        "df = pd.DataFrame(data)\n",
        "\n",
        "df\n"
      ],
      "metadata": {
        "colab": {
          "base_uri": "https://localhost:8080/",
          "height": 143
        },
        "id": "C4_E0tZmKWhF",
        "outputId": "edce3380-09b0-4f0f-fc41-6c9f1599c069"
      },
      "execution_count": 15,
      "outputs": [
        {
          "output_type": "execute_result",
          "data": {
            "text/plain": [
              "     name  Age  Gender\n",
              "0   Alice   25  Female\n",
              "1     Bob   30    Male\n",
              "2  Claire   27  Female"
            ],
            "text/html": [
              "\n",
              "  <div id=\"df-47f0020f-e0fc-440b-a728-fbf3ec21aa79\">\n",
              "    <div class=\"colab-df-container\">\n",
              "      <div>\n",
              "<style scoped>\n",
              "    .dataframe tbody tr th:only-of-type {\n",
              "        vertical-align: middle;\n",
              "    }\n",
              "\n",
              "    .dataframe tbody tr th {\n",
              "        vertical-align: top;\n",
              "    }\n",
              "\n",
              "    .dataframe thead th {\n",
              "        text-align: right;\n",
              "    }\n",
              "</style>\n",
              "<table border=\"1\" class=\"dataframe\">\n",
              "  <thead>\n",
              "    <tr style=\"text-align: right;\">\n",
              "      <th></th>\n",
              "      <th>name</th>\n",
              "      <th>Age</th>\n",
              "      <th>Gender</th>\n",
              "    </tr>\n",
              "  </thead>\n",
              "  <tbody>\n",
              "    <tr>\n",
              "      <th>0</th>\n",
              "      <td>Alice</td>\n",
              "      <td>25</td>\n",
              "      <td>Female</td>\n",
              "    </tr>\n",
              "    <tr>\n",
              "      <th>1</th>\n",
              "      <td>Bob</td>\n",
              "      <td>30</td>\n",
              "      <td>Male</td>\n",
              "    </tr>\n",
              "    <tr>\n",
              "      <th>2</th>\n",
              "      <td>Claire</td>\n",
              "      <td>27</td>\n",
              "      <td>Female</td>\n",
              "    </tr>\n",
              "  </tbody>\n",
              "</table>\n",
              "</div>\n",
              "      <button class=\"colab-df-convert\" onclick=\"convertToInteractive('df-47f0020f-e0fc-440b-a728-fbf3ec21aa79')\"\n",
              "              title=\"Convert this dataframe to an interactive table.\"\n",
              "              style=\"display:none;\">\n",
              "        \n",
              "  <svg xmlns=\"http://www.w3.org/2000/svg\" height=\"24px\"viewBox=\"0 0 24 24\"\n",
              "       width=\"24px\">\n",
              "    <path d=\"M0 0h24v24H0V0z\" fill=\"none\"/>\n",
              "    <path d=\"M18.56 5.44l.94 2.06.94-2.06 2.06-.94-2.06-.94-.94-2.06-.94 2.06-2.06.94zm-11 1L8.5 8.5l.94-2.06 2.06-.94-2.06-.94L8.5 2.5l-.94 2.06-2.06.94zm10 10l.94 2.06.94-2.06 2.06-.94-2.06-.94-.94-2.06-.94 2.06-2.06.94z\"/><path d=\"M17.41 7.96l-1.37-1.37c-.4-.4-.92-.59-1.43-.59-.52 0-1.04.2-1.43.59L10.3 9.45l-7.72 7.72c-.78.78-.78 2.05 0 2.83L4 21.41c.39.39.9.59 1.41.59.51 0 1.02-.2 1.41-.59l7.78-7.78 2.81-2.81c.8-.78.8-2.07 0-2.86zM5.41 20L4 18.59l7.72-7.72 1.47 1.35L5.41 20z\"/>\n",
              "  </svg>\n",
              "      </button>\n",
              "      \n",
              "  <style>\n",
              "    .colab-df-container {\n",
              "      display:flex;\n",
              "      flex-wrap:wrap;\n",
              "      gap: 12px;\n",
              "    }\n",
              "\n",
              "    .colab-df-convert {\n",
              "      background-color: #E8F0FE;\n",
              "      border: none;\n",
              "      border-radius: 50%;\n",
              "      cursor: pointer;\n",
              "      display: none;\n",
              "      fill: #1967D2;\n",
              "      height: 32px;\n",
              "      padding: 0 0 0 0;\n",
              "      width: 32px;\n",
              "    }\n",
              "\n",
              "    .colab-df-convert:hover {\n",
              "      background-color: #E2EBFA;\n",
              "      box-shadow: 0px 1px 2px rgba(60, 64, 67, 0.3), 0px 1px 3px 1px rgba(60, 64, 67, 0.15);\n",
              "      fill: #174EA6;\n",
              "    }\n",
              "\n",
              "    [theme=dark] .colab-df-convert {\n",
              "      background-color: #3B4455;\n",
              "      fill: #D2E3FC;\n",
              "    }\n",
              "\n",
              "    [theme=dark] .colab-df-convert:hover {\n",
              "      background-color: #434B5C;\n",
              "      box-shadow: 0px 1px 3px 1px rgba(0, 0, 0, 0.15);\n",
              "      filter: drop-shadow(0px 1px 2px rgba(0, 0, 0, 0.3));\n",
              "      fill: #FFFFFF;\n",
              "    }\n",
              "  </style>\n",
              "\n",
              "      <script>\n",
              "        const buttonEl =\n",
              "          document.querySelector('#df-47f0020f-e0fc-440b-a728-fbf3ec21aa79 button.colab-df-convert');\n",
              "        buttonEl.style.display =\n",
              "          google.colab.kernel.accessAllowed ? 'block' : 'none';\n",
              "\n",
              "        async function convertToInteractive(key) {\n",
              "          const element = document.querySelector('#df-47f0020f-e0fc-440b-a728-fbf3ec21aa79');\n",
              "          const dataTable =\n",
              "            await google.colab.kernel.invokeFunction('convertToInteractive',\n",
              "                                                     [key], {});\n",
              "          if (!dataTable) return;\n",
              "\n",
              "          const docLinkHtml = 'Like what you see? Visit the ' +\n",
              "            '<a target=\"_blank\" href=https://colab.research.google.com/notebooks/data_table.ipynb>data table notebook</a>'\n",
              "            + ' to learn more about interactive tables.';\n",
              "          element.innerHTML = '';\n",
              "          dataTable['output_type'] = 'display_data';\n",
              "          await google.colab.output.renderOutput(dataTable, element);\n",
              "          const docLink = document.createElement('div');\n",
              "          docLink.innerHTML = docLinkHtml;\n",
              "          element.appendChild(docLink);\n",
              "        }\n",
              "      </script>\n",
              "    </div>\n",
              "  </div>\n",
              "  "
            ]
          },
          "metadata": {},
          "execution_count": 15
        }
      ]
    },
    {
      "cell_type": "code",
      "source": [
        "ages = df[\"Age\"]\n",
        "\n",
        "print(ages)\n"
      ],
      "metadata": {
        "colab": {
          "base_uri": "https://localhost:8080/"
        },
        "id": "ymV6VGLxKmu5",
        "outputId": "8f191c2d-50c4-4f13-f3c7-dfa5733929cd"
      },
      "execution_count": 16,
      "outputs": [
        {
          "output_type": "stream",
          "name": "stdout",
          "text": [
            "0    25\n",
            "1    30\n",
            "2    27\n",
            "Name: Age, dtype: int64\n"
          ]
        }
      ]
    },
    {
      "cell_type": "markdown",
      "source": [
        "Q5. What are some common functions you can use to manipulate data in a Pandas DataFrame? Can\n",
        "you give an example of when you might use one of these functions?"
      ],
      "metadata": {
        "id": "nUz3OJNmEvQ1"
      }
    },
    {
      "cell_type": "markdown",
      "source": [
        "Pandas offers many functions to manipulate data in a DataFrame. Here are some of the most common ones:\n",
        "\n",
        "head(): This function is used to display the first n rows of a DataFrame. It is useful when you want to get a quick overview of the data.\n",
        "\n",
        "tail(): This function is used to display the last n rows of a DataFrame.\n",
        "\n",
        "describe(): This function is used to generate descriptive statistics of a DataFrame. It provides information such as the count, mean, standard deviation, minimum, and maximum values for each column.\n",
        "\n",
        "drop(): This function is used to remove a column or row from a DataFrame. It can be used to remove unwanted columns or rows that contain missing data.\n",
        "\n",
        "groupby(): This function is used to group data based on one or more columns. It can be used to compute summary statistics for each group or to aggregate data based on a specific criterion.\n",
        "\n",
        "sort_values(): This function is used to sort a DataFrame based on one or more columns. It can be used to arrange data in ascending or descending order.\n",
        "\n",
        "apply(): This function is used to apply a function to each element of a DataFrame. It can be used to transform data, compute new features, or clean data."
      ],
      "metadata": {
        "id": "XdZnK8B5MzuM"
      }
    },
    {
      "cell_type": "markdown",
      "source": [
        "Q6. Which of the following is mutable in nature Series, DataFrame, Panel?"
      ],
      "metadata": {
        "id": "d9HDUUwLEXsA"
      }
    },
    {
      "cell_type": "markdown",
      "source": [
        "Of the three data structures, both Series and DataFrame are mutable in nature, while Panel is deprecated as of Pandas version 1.0.0 and no longer recommended for use."
      ],
      "metadata": {
        "id": "szFCkICKM7-e"
      }
    },
    {
      "cell_type": "markdown",
      "source": [
        "Q7. Create a DataFrame using multiple Series. Explain with an example."
      ],
      "metadata": {
        "id": "v0jcDUyCE11P"
      }
    },
    {
      "cell_type": "code",
      "source": [
        "import pandas as pd\n",
        "\n",
        "# create some Series\n",
        "names = pd.Series(['Alice', 'Bob', 'Charlie'])\n",
        "ages = pd.Series([25, 30, 27])\n",
        "genders = pd.Series(['Female', 'Male', 'Male'])\n",
        "\n",
        "# create a DataFrame using the Series\n",
        "df = pd.DataFrame({'Name': names, 'Age': ages, 'Gender': genders})\n",
        "\n",
        "# display the resulting DataFrame\n",
        "print(df)\n",
        "\n"
      ],
      "metadata": {
        "id": "1_nLFreXP2n7",
        "outputId": "3ab34ae7-12bf-4bf3-a775-0c133ff27437",
        "colab": {
          "base_uri": "https://localhost:8080/"
        }
      },
      "execution_count": 17,
      "outputs": [
        {
          "output_type": "stream",
          "name": "stdout",
          "text": [
            "      Name  Age  Gender\n",
            "0    Alice   25  Female\n",
            "1      Bob   30    Male\n",
            "2  Charlie   27    Male\n"
          ]
        }
      ]
    }
  ]
}