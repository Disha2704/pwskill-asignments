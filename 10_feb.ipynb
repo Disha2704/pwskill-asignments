{
  "nbformat": 4,
  "nbformat_minor": 0,
  "metadata": {
    "colab": {
      "provenance": [],
      "authorship_tag": "ABX9TyPm7/vCocLBmGnJTSxIeDHz",
      "include_colab_link": true
    },
    "kernelspec": {
      "name": "python3",
      "display_name": "Python 3"
    },
    "language_info": {
      "name": "python"
    }
  },
  "cells": [
    {
      "cell_type": "markdown",
      "metadata": {
        "id": "view-in-github",
        "colab_type": "text"
      },
      "source": [
        "<a href=\"https://colab.research.google.com/github/Disha2704/pwskill-asignments/blob/main/10_feb.ipynb\" target=\"_parent\"><img src=\"https://colab.research.google.com/assets/colab-badge.svg\" alt=\"Open In Colab\"/></a>"
      ]
    },
    {
      "cell_type": "markdown",
      "source": [
        "Q1. Which function is used to open a file? What are the different modes of opening a file? Explain each mode\n",
        "of file opening.\n",
        "\n",
        "ANS)\n",
        "In Python, the built-in open() function is used to open a file. It takes two arguments: the path and name of the file to be opened, and the mode in which the file is to be opened.\n",
        "\n",
        "The different modes of opening a file in Python are:\n",
        "\n",
        "r: Read mode - This mode is used to open a file for reading only. The file pointer is placed at the beginning of the file. If the file does not exist, an error is raised.\n",
        "\n",
        "w: Write mode - This mode is used to open a file for writing. If the file already exists, it is truncated (i.e., its contents are deleted). If the file does not exist, a new file is created.\n",
        "\n",
        "a: Append mode - This mode is used to open a file for writing. If the file already exists, new data is written to the end of the file. If the file does not exist, a new file is created.\n",
        "\n",
        "x: Exclusive creation mode - This mode is used to open a file for exclusive creation. If the file already exists, an error is raised.\n",
        "\n",
        "t: Text mode - This mode is used to open a file in text mode, i.e., to read or write strings to the file.\n",
        "\n",
        "b: Binary mode - This mode is used to open a file in binary mode, i.e., to read or write bytes to the file.\n",
        "\n",
        "+: Update mode - This mode is used to open a file for both reading and writing.\n"
      ],
      "metadata": {
        "id": "eUGKb0pUFYQE"
      }
    },
    {
      "cell_type": "markdown",
      "source": [
        "Q2. Why close() function is used? Why is it important to close a file?\n",
        "ANS)\n",
        "In Python, the close() function is used to close an opened file. It is important to close a file for the following reasons:\n",
        "\n",
        "Save changes\n",
        "\n",
        "Free resources\n",
        "\n",
        "Avoid data corruption\n",
        "\n",
        "Release the lock"
      ],
      "metadata": {
        "id": "0vGsUC1eFhis"
      }
    },
    {
      "cell_type": "markdown",
      "source": [
        "Q3. Write a python program to create a text file. Write ‘I want to become a Data Scientist’ in that file. Then\n",
        "close the file. Open this file and read the content of the file."
      ],
      "metadata": {
        "id": "9e0w-Z8kH_oV"
      }
    },
    {
      "cell_type": "code",
      "source": [
        "# Open a file in write mode\n",
        "file = open(\"example.txt\", \"w\")\n",
        "\n",
        "# Write data to the file\n",
        "file.write(\"I want to become a Data Scientist\")\n",
        "\n",
        "# Close the file\n",
        "file.close()\n",
        "\n",
        "# Open the file in read mode\n",
        "file = open(\"example.txt\", \"r\")\n",
        "\n",
        "# Read the content of the file\n",
        "content = file.read()\n",
        "\n",
        "# Print the content of the file\n",
        "print(content)\n",
        "\n",
        "# Close the file\n",
        "file.close()\n"
      ],
      "metadata": {
        "id": "R8yTdJAcIAAG"
      },
      "execution_count": null,
      "outputs": []
    },
    {
      "cell_type": "markdown",
      "source": [
        "Q4. Explain the following with python code: read(), readline() and readlines().\n",
        "ANS)\n",
        "These are three methods for reading data from a file in Python:\n",
        "\n",
        "read(): This method reads the entire contents of the file as a string. It takes an optional integer argument which specifies the maximum number of bytes to read from the file. If no argument is given, it reads the entire file.\n",
        "\n",
        "readline(): This method reads a single line from the file and returns it as a string. It reads up to and including the newline character (\"\\n\"), if present. If the end of the file has been reached, it returns an empty string.\n",
        "\n",
        "readlines(): This method reads all the lines in the file and returns them as a list of strings. Each string in the list corresponds to a single line in the file, including the newline character (\"\\n\") at the end of each line."
      ],
      "metadata": {
        "id": "D6mGZhS_IxLK"
      }
    },
    {
      "cell_type": "code",
      "source": [
        "# Open a file in read mode\n",
        "file = open(\"example.txt\", \"r\")\n",
        "\n",
        "# Read the entire file as a string using read()\n",
        "content = file.read()\n",
        "print(content)\n",
        "\n",
        "# Reset the file pointer to the beginning of the file\n",
        "file.seek(0)\n",
        "\n",
        "# Read a single line from the file using readline()\n",
        "line = file.readline()\n",
        "print(line)\n",
        "\n",
        "# Read all the lines from the file as a list of strings using readlines()\n",
        "lines = file.readlines()\n",
        "print(lines)\n",
        "\n",
        "# Close the file\n",
        "file.close()\n"
      ],
      "metadata": {
        "id": "f_RCBWh6I0Zm"
      },
      "execution_count": null,
      "outputs": []
    },
    {
      "cell_type": "markdown",
      "source": [
        "Q5. Explain why with statement is used with open(). What is the advantage of using with statement and\n",
        "open() together?\n",
        "\n",
        "ANS)\n",
        "The with statement in Python is used to provide a convenient way to handle resources, such as files, ensuring that the resource is properly managed, and automatically closed when the block of code is exited. When used with the open() function, the with statement can open and close files without needing to use file.close() explicitly.\n",
        "\n"
      ],
      "metadata": {
        "id": "jHd63pB1Kcdp"
      }
    },
    {
      "cell_type": "markdown",
      "source": [
        "Q6. Explain the write() and writelines() functions. Give a suitable example.\n",
        "ANS)\n",
        "\n",
        "The write() function in Python is used to write a string to a file. It takes a single argument, which is the string to be written to the file. If the file does not exist, it will be created. If the file already exists, the write() function will overwrite its content.\n",
        "\n",
        "The writelines() function in Python is used to write a list of strings to a file. It takes a single argument, which is a list of strings to be written to the file. Each string in the list will be written on a separate line in the file."
      ],
      "metadata": {
        "id": "MTWsRoAIK35S"
      }
    },
    {
      "cell_type": "code",
      "source": [
        "with open(\"example.txt\", \"w\") as file:\n",
        "    file.write(\"This is a test file.\")\n",
        "\n",
        "\n",
        "lines = [\"This is line 1.\\n\", \"This is line 2.\\n\", \"This is line 3.\\n\"]\n",
        "with open(\"example.txt\", \"w\") as file:\n",
        "    file.writelines(lines)\n"
      ],
      "metadata": {
        "id": "nPfQeeU1L-vc"
      },
      "execution_count": null,
      "outputs": []
    },
    {
      "cell_type": "code",
      "source": [],
      "metadata": {
        "id": "NkajdvxcKdqK"
      },
      "execution_count": null,
      "outputs": []
    }
  ]
}