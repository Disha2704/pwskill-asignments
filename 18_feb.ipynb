{
  "nbformat": 4,
  "nbformat_minor": 0,
  "metadata": {
    "colab": {
      "provenance": [],
      "authorship_tag": "ABX9TyOp2VFMYkHSTM+q0gmX5ZzI",
      "include_colab_link": true
    },
    "kernelspec": {
      "name": "python3",
      "display_name": "Python 3"
    },
    "language_info": {
      "name": "python"
    }
  },
  "cells": [
    {
      "cell_type": "markdown",
      "metadata": {
        "id": "view-in-github",
        "colab_type": "text"
      },
      "source": [
        "<a href=\"https://colab.research.google.com/github/Disha2704/pwskill-asignments/blob/main/18_feb.ipynb\" target=\"_parent\"><img src=\"https://colab.research.google.com/assets/colab-badge.svg\" alt=\"Open In Colab\"/></a>"
      ]
    },
    {
      "cell_type": "markdown",
      "source": [
        "Q1. What is an API? Give an example, where an API is used in real life."
      ],
      "metadata": {
        "id": "FkI47y_db_N_"
      }
    },
    {
      "cell_type": "markdown",
      "source": [
        "API stands for \"Application Programming Interface.\" It is a set of protocols, routines, and tools that allow software applications to communicate with each other.\n",
        "\n",
        "In simpler terms, an API is like a waiter in a restaurant. The waiter serves as an intermediary between the customer and the kitchen. The customer doesn't need to know how the food is being prepared or what ingredients are being used; they just need to tell the waiter what they want, and the waiter will communicate that to the kitchen. The kitchen will then prepare the food, and the waiter will deliver it to the custome"
      ],
      "metadata": {
        "id": "snAXXDmBcUOs"
      }
    },
    {
      "cell_type": "markdown",
      "source": [
        "Q2. Give advantages and disadvantages of using API."
      ],
      "metadata": {
        "id": "5mors_2pb_Us"
      }
    },
    {
      "cell_type": "markdown",
      "source": [
        "\n",
        "**Advantages of using APIs:**\n",
        "\n",
        "Standardization: APIs provide a standardized interface for accessing services or data, which makes it easier for developers to integrate different systems and tools.\n",
        "\n",
        "Simplifies development: Using an API allows developers to focus on building their application without worrying about the underlying technology or infrastructure, as the API handles the communication and data exchange.\n",
        "\n",
        "Speeds up development: APIs can help speed up development by providing pre-built functionality and features that can be incorporated into an application. This can save developers time and resources.\n",
        "\n",
        "Scalability: APIs can help ensure that an application is scalable by allowing developers to use a distributed architecture that can handle high levels of traffic and data.\n",
        "\n",
        "**Disadvantages of using APIs:**\n",
        "\n",
        "Complexity: APIs can be complex, especially if the underlying service or data is complex. This can make it difficult for developers to work with the API.\n",
        "\n",
        "Limited control: Using an API means that developers are reliant on the service or data provided by the API. If the service or data changes, it can have a significant impact on the application that uses the API.\n",
        "\n",
        "Security risks: APIs can introduce security risks, especially if they are not properly secured. This can include things like unauthorized access to data or the introduction of malware.\n",
        "\n",
        "Cost: Depending on the API, there may be costs associated with using it. These costs can include licensing fees, usage fees, or other fees. This can add to the overall cost of developing and maintaining an application."
      ],
      "metadata": {
        "id": "3AZy39mSdLWe"
      }
    },
    {
      "cell_type": "markdown",
      "source": [
        "Q3. What is a Web API? Differentiate between API and Web API."
      ],
      "metadata": {
        "id": "th7dhMM4b_Xy"
      }
    },
    {
      "cell_type": "markdown",
      "source": [
        "A Web API is a type of API that is accessed using web protocols such as HTTP and HTTPS. A Web API allows applications to communicate with each other over the internet, typically using a RESTful architecture, where data is transferred in a stateless way using standard HTTP methods like GET, POST, PUT, and DELETE.\n",
        "\n",
        "The main difference between an API and a Web API is that while an API can be accessed through any means of communication, a Web API can only be accessed through web protocols, making it specifically designed to be used in web-based applications."
      ],
      "metadata": {
        "id": "7--KBK-ZdjyB"
      }
    },
    {
      "cell_type": "markdown",
      "source": [
        "Q4. Explain REST and SOAP Architecture. Mention shortcomings of SOAP."
      ],
      "metadata": {
        "id": "96xcrjWmb_ai"
      }
    },
    {
      "cell_type": "markdown",
      "source": [
        "REST (Representational State Transfer) and SOAP (Simple Object Access Protocol) are two popular architectural styles for building web services.\n",
        "\n",
        "SOAP is less flexible than REST. Because SOAP is based on a strict specification, it can be difficult to modify or extend. In contrast, REST is more flexible and allows for more freedom in designing the web service interface."
      ],
      "metadata": {
        "id": "cHnsNUp9eCph"
      }
    },
    {
      "cell_type": "markdown",
      "source": [
        "Q5. Differentiate between REST and SOAP.\n",
        "\n",
        "\n"
      ],
      "metadata": {
        "id": "HLzN3imNb_dK"
      }
    },
    {
      "cell_type": "markdown",
      "source": [
        "REST (Representational State Transfer) and SOAP (Simple Object Access Protocol) are two different architectural styles for building web services. Here are some of the key differences between REST and SOAP:\n",
        "\n",
        "Data Format: REST uses simple data formats like XML, JSON, or plain text for data exchange, while SOAP uses XML format only.\n",
        "\n",
        "Messaging Protocol: REST uses a lightweight messaging protocol, typically HTTP, while SOAP uses a more heavyweight messaging protocol, typically XML over HTTP or SMTP.\n",
        "\n",
        "Interface Style: REST provides a simpler and more flexible interface, whereas SOAP provides a more rigid and formal interface.\n",
        "\n",
        "Scalability: REST-based web services are more scalable, because they don't require as much bandwidth and processing power as SOAP-based web services.\n",
        "\n",
        "Performance: REST-based web services are generally faster and more efficient than SOAP-based web services, because they use a lightweight messaging protocol.\n",
        "\n",
        "Caching: REST-based web services can be cached, which can improve performance, whereas SOAP-based web services cannot be cached.\n",
        "\n",
        "Security: SOAP-based web services are considered more secure than REST-based web services, because they use a formal security model with built-in support for encryption and authentication."
      ],
      "metadata": {
        "id": "rohhgdtyfHHj"
      }
    }
  ]
}