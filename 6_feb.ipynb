{
  "nbformat": 4,
  "nbformat_minor": 0,
  "metadata": {
    "colab": {
      "provenance": [],
      "authorship_tag": "ABX9TyOYCNSucPFhHV1eyXAmk4Fb",
      "include_colab_link": true
    },
    "kernelspec": {
      "name": "python3",
      "display_name": "Python 3"
    },
    "language_info": {
      "name": "python"
    }
  },
  "cells": [
    {
      "cell_type": "markdown",
      "metadata": {
        "id": "view-in-github",
        "colab_type": "text"
      },
      "source": [
        "<a href=\"https://colab.research.google.com/github/Disha2704/pwskill-asignments/blob/main/6_feb.ipynb\" target=\"_parent\"><img src=\"https://colab.research.google.com/assets/colab-badge.svg\" alt=\"Open In Colab\"/></a>"
      ]
    },
    {
      "cell_type": "markdown",
      "source": [
        "Q1. Create a function which will take a list as an argument and return the product of all the numbers\n",
        "after creating a flat list.\n",
        "Use the below-given list as an argument for your function.\n",
        "list1 = [1,2,3,4, [44,55,66, True], False, (34,56,78,89,34), {1,2,3,3,2,1}, {1:34, \"key2\": [55, 67, 78, 89], 4: (45,\n",
        "22, 61, 34)}, [56, 'data science'], 'Machine Learning']"
      ],
      "metadata": {
        "id": "MTxdyIcU7sFm"
      }
    },
    {
      "cell_type": "code",
      "execution_count": null,
      "metadata": {
        "id": "AksTueuC7lVA"
      },
      "outputs": [],
      "source": [
        "list = [1,2,3,4, [44,55,66, True], False, (34,56,78,89,34), {1,2,3,3,2,1}, {1:34, \"key2\": [55, 67, 78, 89], 4: (45,\n",
        "22, 61, 34)}, [56, 'data science'], 'Machine Learning']"
      ]
    },
    {
      "cell_type": "code",
      "source": [
        "\n",
        "\n",
        "def product_of_numbers(input_List):\n",
        "    list = []\n",
        "    for item in input_list:\n",
        "        if type(item) in (int, float):\n",
        "            list.append(item)\n",
        "        elif type(item) == list:\n",
        "            for sub_item in item:\n",
        "                if type(sub_item) in (int, float):\n",
        "                    list.append(sub_item)\n",
        "        elif type(item) == tuple:\n",
        "            for sub_item in item:\n",
        "                if type(sub_item) in (int, float):\n",
        "                    list.append(sub_item)\n",
        "        elif type(item) == dict:\n",
        "            for sub_item in item.values():\n",
        "                if type(sub_item) in (int, float):\n",
        "                    list.append(sub_item)\n",
        "                elif type(sub_item) == list:\n",
        "                    for sub_sub_item in sub_item:\n",
        "                        if type(sub_sub_item) in (int, float):\n",
        "                            list.append(sub_sub_item)\n",
        "    result = 1\n",
        "    for item in list:\n",
        "        result *= item\n",
        "    return result\n",
        "input_list = [1,2,3,4, [44,55,66, True], False, (34,56,78,89,34), {1,2,3,3,2,1}, {1:34, \"key2\": [55, 67, 78, 89], 4: (45,\n",
        "22, 61, 34)}, [56, 'data science'], 'Machine Learning']\n",
        "product_of_numbers(input_list)\n"
      ],
      "metadata": {
        "colab": {
          "base_uri": "https://localhost:8080/"
        },
        "id": "t2H4u94FiMZw",
        "outputId": "dc6c8a9d-c45a-4fd4-da90-fc7612b8e0e2"
      },
      "execution_count": 4,
      "outputs": [
        {
          "output_type": "execute_result",
          "data": {
            "text/plain": [
              "366708206592"
            ]
          },
          "metadata": {},
          "execution_count": 4
        }
      ]
    },
    {
      "cell_type": "markdown",
      "source": [
        "Q2. Write a python program for encrypting a message sent to you by your friend. The logic of encryption\n",
        "should be such that, for a the output should be z. For b, the output should be y. For c, the output should\n",
        "be x respectively. Also, the whitespace should be replaced with a dollar sign. Keep the punctuation\n",
        "marks unchanged."
      ],
      "metadata": {
        "id": "3jbPgr1mzh7W"
      }
    },
    {
      "cell_type": "code",
      "source": [
        "def encrypt_message(message):\n",
        "    alphabet = \"abcdefghijklmnopqrstuvwxyz\"\n",
        "    encrypted_message = \"\"\n",
        "    for char in message:\n",
        "        if char.lower() in alphabet:\n",
        "            index = alphabet.index(char.lower())\n",
        "            encrypted_char = alphabet[25 - index]\n",
        "            # if char.isupper():\n",
        "            #     encrypted_char = encrypted_char.upper()\n",
        "            encrypted_message =encrypted_message+ encrypted_char\n",
        "        elif char == \" \":\n",
        "            encrypted_message =encrypted_message + \"$\"\n",
        "        else:\n",
        "            encrypted_message =encrypted_mesage + char\n",
        "    return encrypted_message\n",
        "\n",
        "# Example usage\n",
        "original_message = \"ABCD!\"\n",
        "encrypted_message = encrypt_message(original_message)\n",
        "print(f\"Original message: {original_message}\")\n",
        "print(f\"Encrypted message: {encrypted_message}\")\n"
      ],
      "metadata": {
        "colab": {
          "base_uri": "https://localhost:8080/"
        },
        "id": "c-a94LC0zkH0",
        "outputId": "fd075f0a-6c45-49de-8beb-ba7da28bbf62"
      },
      "execution_count": null,
      "outputs": [
        {
          "output_type": "stream",
          "name": "stdout",
          "text": [
            "Original message: ABCD!\n",
            "Encrypted message: zyxw!\n"
          ]
        }
      ]
    }
  ]
}