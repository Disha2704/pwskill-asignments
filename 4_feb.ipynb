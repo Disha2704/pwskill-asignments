{
  "nbformat": 4,
  "nbformat_minor": 0,
  "metadata": {
    "colab": {
      "provenance": [],
      "authorship_tag": "ABX9TyNMkdl+uTBGzDu+l3RsdLC3",
      "include_colab_link": true
    },
    "kernelspec": {
      "name": "python3",
      "display_name": "Python 3"
    },
    "language_info": {
      "name": "python"
    }
  },
  "cells": [
    {
      "cell_type": "markdown",
      "metadata": {
        "id": "view-in-github",
        "colab_type": "text"
      },
      "source": [
        "<a href=\"https://colab.research.google.com/github/Disha2704/pwskill-asignments/blob/main/4_feb.ipynb\" target=\"_parent\"><img src=\"https://colab.research.google.com/assets/colab-badge.svg\" alt=\"Open In Colab\"/></a>"
      ]
    },
    {
      "cell_type": "markdown",
      "source": [
        "Q1. Create a python program to sort the given list of tuples based on integer value using a\n",
        "lambda function.\n",
        "[('Sachin Tendulkar', 34357), ('Ricky Ponting', 27483), ('Jack Kallis', 25534), ('Virat Kohli', 24936)]\n"
      ],
      "metadata": {
        "id": "zG-HI4MYtRH6"
      }
    },
    {
      "cell_type": "code",
      "source": [
        "data = [('Sachin Tendulkar', 34357), ('Ricky Ponting', 27483), ('Jack Kallis', 25534), ('Virat Kohli', 24936)]\n",
        "\n",
        "sorted_data = sorted(data, key=lambda x: x[1])\n",
        "\n",
        "print(sorted_data)\n"
      ],
      "metadata": {
        "colab": {
          "base_uri": "https://localhost:8080/"
        },
        "id": "zhjd8uk68wCS",
        "outputId": "2221083d-2070-4b3d-d2d6-e80032e00105"
      },
      "execution_count": 55,
      "outputs": [
        {
          "output_type": "stream",
          "name": "stdout",
          "text": [
            "[('Virat Kohli', 24936), ('Jack Kallis', 25534), ('Ricky Ponting', 27483), ('Sachin Tendulkar', 34357)]\n"
          ]
        }
      ]
    },
    {
      "cell_type": "markdown",
      "source": [
        "Q2. Write a Python Program to find the squares of all the numbers in the given list of integers using\n",
        "lambda and map functions.\n",
        "[1, 2, 3, 4, 5, 6, 7, 8, 9, 10]"
      ],
      "metadata": {
        "id": "RX_IU8zG84Zp"
      }
    },
    {
      "cell_type": "code",
      "source": [
        "numbers = [1, 2, 3, 4, 5, 6, 7, 8, 9, 10]\n",
        "\n",
        "squared_numbers = list(map(lambda x: x**2, numbers))\n",
        "\n",
        "print(squared_numbers)\n"
      ],
      "metadata": {
        "colab": {
          "base_uri": "https://localhost:8080/"
        },
        "id": "VJznBEt283fT",
        "outputId": "5a1aa397-233d-454e-9d39-6fdf4e736d5f"
      },
      "execution_count": 56,
      "outputs": [
        {
          "output_type": "stream",
          "name": "stdout",
          "text": [
            "[1, 4, 9, 16, 25, 36, 49, 64, 81, 100]\n"
          ]
        }
      ]
    },
    {
      "cell_type": "markdown",
      "source": [
        "Write a python program to convert the given list of integers into a tuple of strings. Use map and\n",
        "lambda functions\n",
        "Given String: [1, 2, 3, 4, 5, 6, 7, 8, 9, 10]\n",
        "Expected output: ('1', '2', '3', '4', '5', '6', '7', '8', '9', '10')"
      ],
      "metadata": {
        "id": "SMGam2qr9XLa"
      }
    },
    {
      "cell_type": "code",
      "source": [
        "numbers = [1, 2, 3, 4, 5, 6, 7, 8, 9, 10]\n",
        "\n",
        "string_tuple = tuple(map(lambda x: str(x), numbers))\n",
        "\n",
        "print(string_tuple)\n"
      ],
      "metadata": {
        "colab": {
          "base_uri": "https://localhost:8080/"
        },
        "id": "DQTEwsCu-RPQ",
        "outputId": "36d0e71d-e3f7-40bc-e8e7-b38f816e499e"
      },
      "execution_count": 64,
      "outputs": [
        {
          "output_type": "stream",
          "name": "stdout",
          "text": [
            "('1', '2', '3', '4', '5', '6', '7', '8', '9', '10')\n"
          ]
        }
      ]
    },
    {
      "cell_type": "markdown",
      "source": [
        "Q4. Write a python program using reduce function to compute the product of a list containing numbers\n",
        "from 1 to 25."
      ],
      "metadata": {
        "id": "cLpPuSMrCjnf"
      }
    },
    {
      "cell_type": "code",
      "source": [
        "from functools import reduce\n",
        "\n",
        "numbers = [i for i in range(1, 26)]\n",
        "\n",
        "product = reduce(lambda x, y: x*y, numbers)\n",
        "\n",
        "print(product)\n"
      ],
      "metadata": {
        "colab": {
          "base_uri": "https://localhost:8080/"
        },
        "id": "yesyrToNCwlB",
        "outputId": "242cbb8d-3edb-4805-be2a-8101c3cb160f"
      },
      "execution_count": 74,
      "outputs": [
        {
          "output_type": "stream",
          "name": "stdout",
          "text": [
            "15511210043330985984000000\n"
          ]
        }
      ]
    },
    {
      "cell_type": "markdown",
      "source": [
        "Q5. Write a python program to filter the numbers in a given list that are divisible by 2 and 3 using the\n",
        "filter function.\n",
        "[2, 3, 6, 9, 27, 60, 90, 120, 55, 46]"
      ],
      "metadata": {
        "id": "WhGaACYuCjra"
      }
    },
    {
      "cell_type": "code",
      "source": [
        "numbers = [2, 3, 6, 9, 27, 60, 90, 120, 55, 46]\n",
        "\n",
        "result = list(filter(lambda x: x % 2 == 0 and x % 3 == 0, numbers))\n",
        "\n",
        "print(result)\n"
      ],
      "metadata": {
        "colab": {
          "base_uri": "https://localhost:8080/"
        },
        "id": "8V9G2O5UEXD6",
        "outputId": "d3c80a47-64c2-4eca-f12e-5f537285e556"
      },
      "execution_count": 75,
      "outputs": [
        {
          "output_type": "stream",
          "name": "stdout",
          "text": [
            "[6, 60, 90, 120]\n"
          ]
        }
      ]
    },
    {
      "cell_type": "markdown",
      "source": [
        "Q6. Write a python program to find palindromes in the given list of strings using lambda and filter\n",
        "function.\n",
        "['python', 'php', 'aba', 'radar', 'level']\n",
        "\n",
        "---\n",
        "\n"
      ],
      "metadata": {
        "id": "OzLWoLXxCjvq"
      }
    },
    {
      "cell_type": "code",
      "source": [
        "words = ['python', 'php', 'aba', 'radar', 'level']\n",
        "\n",
        "result = list(filter(lambda x: x == x[::-1], words))\n",
        "\n",
        "print(result)\n"
      ],
      "metadata": {
        "colab": {
          "base_uri": "https://localhost:8080/"
        },
        "id": "scE2sE62Epl6",
        "outputId": "c020df73-6fc5-4653-e37e-9bb5b6545920"
      },
      "execution_count": 76,
      "outputs": [
        {
          "output_type": "stream",
          "name": "stdout",
          "text": [
            "['php', 'aba', 'radar', 'level']\n"
          ]
        }
      ]
    }
  ]
}