{
  "nbformat": 4,
  "nbformat_minor": 0,
  "metadata": {
    "colab": {
      "provenance": [],
      "authorship_tag": "ABX9TyPF8WzjNRStlO8gIoq/rojv",
      "include_colab_link": true
    },
    "kernelspec": {
      "name": "python3",
      "display_name": "Python 3"
    },
    "language_info": {
      "name": "python"
    }
  },
  "cells": [
    {
      "cell_type": "markdown",
      "metadata": {
        "id": "view-in-github",
        "colab_type": "text"
      },
      "source": [
        "<a href=\"https://colab.research.google.com/github/Disha2704/pwskill-asignments/blob/main/3_feb_assignment.ipynb\" target=\"_parent\"><img src=\"https://colab.research.google.com/assets/colab-badge.svg\" alt=\"Open In Colab\"/></a>"
      ]
    },
    {
      "cell_type": "code",
      "execution_count": null,
      "metadata": {
        "colab": {
          "base_uri": "https://localhost:8080/"
        },
        "id": "FNFTEmXQT1Tm",
        "outputId": "cb343d2e-d663-4980-ae7b-07e5e3030761"
      },
      "outputs": [
        {
          "output_type": "execute_result",
          "data": {
            "text/plain": [
              "[1, 3, 5, 7, 9, 11, 13, 15, 17, 19, 21, 23, 25]"
            ]
          },
          "metadata": {},
          "execution_count": 1
        }
      ],
      "source": [
        "\"\"\"\n",
        "Q1. Which keyword is used to create a function? Create a function to return a list of odd numbers in the\n",
        "range of 1 to 25.\n",
        "ANS)\"def\" keyword is used to create a function.\n",
        "\n",
        "\"\"\"\n",
        "def odd_number_list():\n",
        "    list=[]\n",
        "    for i in range(1,26):\n",
        "        if i%2!=0:\n",
        "            list.append(i)\n",
        "    return list\n",
        "odd_number_list()\n",
        "\n",
        "\n"
      ]
    },
    {
      "cell_type": "code",
      "source": [
        "\"\"\"\n",
        "Q2. Why *args and **kwargs is used in some functions? Create a function each for *args and **kwargs to\n",
        "demonstrate their use.\n",
        "ANS)\n",
        "*args and **kwargs are used in functions to allow the caller to pass a flexible number of arguments to the function.\n",
        "\n",
        "*args is used to send a non-keyworded variable length argument list to the function. The syntax is to use the asterisk (*) operator before the parameter name:\n",
        "\n",
        "    \n",
        "**kwargs allows you to pass keyworded variable length of arguments to a function. You should use the double asterisk (**) syntax before the parameter name:\n",
        "\"\"\"\n",
        "def func_args(*args):\n",
        "  for arg in args:\n",
        "    print(arg)\n",
        "\n",
        "def func_kwargs(**kwargs):\n",
        "  for key, value in kwargs.items():\n",
        "    print(\"%s == %s\" %(key, value))\n"
      ],
      "metadata": {
        "id": "8OERGq6XT6wR"
      },
      "execution_count": null,
      "outputs": []
    },
    {
      "cell_type": "code",
      "source": [
        "\"\"\"\n",
        "Q3. What is an iterator in python? Name the method used to initialise the iterator object and the method\n",
        "used for iteration. Use these methods to print the first five elements of the given list [2, 4, 6, 8, 10, 12, 14, 16,\n",
        "18, 20].\n",
        "\n",
        "ANS)\n",
        "\n",
        "An iterator in Python is an object that implements the iterable protocol, which means that it can be used in a for loop, or with functions that expect an iterable. It is an object that can be iterated (looped) upon.\n",
        "\n",
        "The iter() method is used to initialize the iterator object. It takes an iterable object as an argument and returns an iterator.\n",
        "\n",
        "The next() method is used for iteration. It returns the next value in the iterator, and raises StopIteration when there are no more items to return.\n",
        "\"\"\"\n",
        "\n",
        "list=[2, 4, 6, 8, 10, 12, 14, 16,18, 20]\n",
        "iterator=iter(list)\n",
        "print(next(iterator))\n",
        "print(next(iterator))\n",
        "print(next(iterator))\n",
        "print(next(iterator))\n",
        "print(next(iterator))"
      ],
      "metadata": {
        "colab": {
          "base_uri": "https://localhost:8080/"
        },
        "id": "FmHwdzfFT_PP",
        "outputId": "ae994d1c-8d53-40a6-adaa-03aec6ffa5db"
      },
      "execution_count": null,
      "outputs": [
        {
          "output_type": "stream",
          "name": "stdout",
          "text": [
            "2\n",
            "4\n",
            "6\n",
            "8\n",
            "10\n"
          ]
        }
      ]
    },
    {
      "cell_type": "code",
      "source": [
        "\"\"\"\n",
        "Q-4)What is a generator function in python? Why yield keyword is used? Give an example of a generator\n",
        "function.\n",
        "ANS)\n",
        "A generator function is a special type of function in Python that returns an iterator. It is defined like a normal function, but instead of using the return keyword, it uses the yield keyword to return a value. Each time the generator function is called, it resumes execution from where it left off, instead of starting from the beginning like a normal function.\n",
        "\n",
        "The yield keyword is used in a generator function to return a value and pause the execution of the function. When the generator function is called again, it resumes from the point where it left off. This allows a generator function to generate a series of values over time, instead of generating them all at once and returning them in a list.\n",
        "\n",
        "Here's an example of a generator function that generates the Fibonacci sequence:\n",
        "\n",
        "\"\"\"\n",
        "def fibonacci(n):\n",
        "    a, b = 0, 1\n",
        "    for i in range(n):\n",
        "        yield a\n",
        "        a, b = b, a + b\n",
        "for number in fibonacci(5):\n",
        "        print(number)\n"
      ],
      "metadata": {
        "colab": {
          "base_uri": "https://localhost:8080/"
        },
        "id": "Gk_kLbPhVMZq",
        "outputId": "66f2830d-843f-4ed3-ae7a-9a146ff514d3"
      },
      "execution_count": null,
      "outputs": [
        {
          "output_type": "stream",
          "name": "stdout",
          "text": [
            "0\n",
            "1\n",
            "1\n",
            "2\n",
            "3\n"
          ]
        }
      ]
    },
    {
      "cell_type": "code",
      "source": [
        "\"\"\"\n",
        "Q5. Create a generator function for prime numbers less than 1000. Use the next() method to print the\n",
        "first 20 prime numbers.\n",
        "\"\"\"\n",
        "def prime_numbers():\n",
        "    prime_list= []\n",
        "    for num in range(2, 1000):\n",
        "        for i in range(2, num):\n",
        "            if (num % i) == 0:\n",
        "                break\n",
        "        else:\n",
        "            prime_list.append(num)\n",
        "            yield num\n",
        "\n",
        "prime_gen = prime_numbers()\n",
        "\n",
        "# Print the first 20 prime numbers\n",
        "for i in range(20):\n",
        "    print(next(prime_gen))\n"
      ],
      "metadata": {
        "colab": {
          "base_uri": "https://localhost:8080/"
        },
        "id": "w9_nLRTSWmG0",
        "outputId": "7c82950b-372c-46e2-97d4-3292e111ab73"
      },
      "execution_count": null,
      "outputs": [
        {
          "output_type": "stream",
          "name": "stdout",
          "text": [
            "2\n",
            "3\n",
            "5\n",
            "7\n",
            "11\n",
            "13\n",
            "17\n",
            "19\n",
            "23\n",
            "29\n",
            "31\n",
            "37\n",
            "41\n",
            "43\n",
            "47\n",
            "53\n",
            "59\n",
            "61\n",
            "67\n",
            "71\n"
          ]
        }
      ]
    }
  ]
}